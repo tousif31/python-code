{
 "cells": [
  {
   "cell_type": "code",
   "execution_count": 5,
   "id": "f1c41148-a93e-471c-941c-5899197550e4",
   "metadata": {},
   "outputs": [],
   "source": [
    "import os\n",
    "if not os.path.exists('figures'):\n",
    "    os.makedirs('figures')"
   ]
  },
  {
   "cell_type": "code",
   "execution_count": 7,
   "id": "afce6100-3305-4803-ad23-2cb487eb3b28",
   "metadata": {},
   "outputs": [
    {
     "name": "stdout",
     "output_type": "stream",
     "text": [
      "1.85 µs ± 83.7 ns per loop (mean ± std. dev. of 7 runs, 100,000 loops each)\n"
     ]
    }
   ],
   "source": [
    "%timeit sum(range(100))"
   ]
  },
  {
   "cell_type": "code",
   "execution_count": 8,
   "id": "a578d5c5-4c4f-4a01-abe4-33b726660f98",
   "metadata": {},
   "outputs": [
    {
     "name": "stdout",
     "output_type": "stream",
     "text": [
      "437 ms ± 16 ms per loop (mean ± std. dev. of 7 runs, 1 loop each)\n"
     ]
    }
   ],
   "source": [
    "%%timeit\n",
    "total = 0\n",
    "for i in range(1000):\n",
    "    for j in range(1000):\n",
    "        total += i * (-1) ** j"
   ]
  },
  {
   "cell_type": "code",
   "execution_count": 9,
   "id": "1131eb75-388c-456a-b992-bcfc12296be1",
   "metadata": {},
   "outputs": [],
   "source": [
    "def sum_of_lists(N):\n",
    "    total = 0\n",
    "    for i in range(5):\n",
    "        L = [j ^ (j >> i) for j in range(N)]\n",
    "        total += sum(L)\n",
    "    return total"
   ]
  },
  {
   "cell_type": "code",
   "execution_count": 10,
   "id": "a2f4fcdb-db18-4e67-bd9f-d64529836bbc",
   "metadata": {},
   "outputs": [
    {
     "name": "stdout",
     "output_type": "stream",
     "text": [
      " "
     ]
    },
    {
     "data": {
      "text/plain": [
       "         81 function calls in 1.602 seconds\n",
       "\n",
       "   Ordered by: internal time\n",
       "\n",
       "   ncalls  tottime  percall  cumtime  percall filename:lineno(function)\n",
       "        1    1.301    1.301    1.580    1.580 3519952779.py:1(sum_of_lists)\n",
       "        5    0.279    0.056    0.279    0.056 {built-in method builtins.sum}\n",
       "        1    0.021    0.021    1.601    1.601 <string>:1(<module>)\n",
       "        1    0.000    0.000    0.000    0.000 {method 'disable' of '_lsprof.Profiler' objects}\n",
       "        7    0.000    0.000    0.000    0.000 {built-in method builtins.isinstance}\n",
       "        2    0.000    0.000    0.001    0.000 traitlets.py:3631(set)\n",
       "       14    0.000    0.000    0.000    0.000 typing.py:2154(cast)\n",
       "        2    0.000    0.000    0.000    0.000 traitlets.py:718(_validate)\n",
       "        1    0.000    0.000    0.000    0.000 traitlets.py:1527(_notify_observers)\n",
       "        2    0.000    0.000    0.000    0.000 traitlets.py:3474(validate)\n",
       "        2    0.000    0.000    0.000    0.000 traitlets.py:689(set)\n",
       "        2    0.000    0.000    0.000    0.000 traitlets.py:3624(validate_elements)\n",
       "        1    0.000    0.000    1.601    1.601 {built-in method builtins.exec}\n",
       "        1    0.000    0.000    0.000    0.000 history.py:839(_writeout_output_cache)\n",
       "        2    0.000    0.000    0.000    0.000 traitlets.py:727(_cross_validate)\n",
       "        2    0.000    0.000    0.001    0.000 traitlets.py:708(__set__)\n",
       "        5    0.000    0.000    0.000    0.000 {built-in method builtins.hasattr}\n",
       "        2    0.000    0.000    0.000    0.000 traitlets.py:3486(validate_elements)\n",
       "        1    0.000    0.000    0.000    0.000 traitlets.py:1512(_notify_trait)\n",
       "        1    0.000    0.000    0.000    0.000 {built-in method _thread.allocate_lock}\n",
       "        2    0.000    0.000    0.000    0.000 traitlets.py:676(__get__)\n",
       "        2    0.000    0.000    0.000    0.000 traitlets.py:2304(validate)\n",
       "        1    0.000    0.000    0.000    0.000 traitlets.py:1523(notify_change)\n",
       "        1    0.000    0.000    0.000    0.000 threading.py:299(__enter__)\n",
       "        4    0.000    0.000    0.000    0.000 {method 'get' of 'dict' objects}\n",
       "        1    0.000    0.000    0.000    0.000 threading.py:314(_is_owned)\n",
       "        2    0.000    0.000    0.000    0.000 traitlets.py:629(get)\n",
       "        1    0.000    0.000    0.000    0.000 threading.py:308(_release_save)\n",
       "        2    0.000    0.000    0.000    0.000 {method 'acquire' of '_thread.lock' objects}\n",
       "        2    0.000    0.000    0.000    0.000 {method '__exit__' of '_thread.lock' objects}\n",
       "        2    0.000    0.000    0.000    0.000 {method 'extend' of 'list' objects}\n",
       "        1    0.000    0.000    0.000    0.000 {method '__enter__' of '_thread.lock' objects}\n",
       "        2    0.000    0.000    0.000    0.000 {built-in method builtins.len}\n",
       "        1    0.000    0.000    0.000    0.000 {method '__exit__' of 'sqlite3.Connection' objects}\n",
       "        1    0.000    0.000    0.000    0.000 {method 'append' of 'collections.deque' objects}\n",
       "        1    0.000    0.000    0.000    0.000 {method 'release' of '_thread.lock' objects}"
      ]
     },
     "metadata": {},
     "output_type": "display_data"
    }
   ],
   "source": [
    "%prun sum_of_lists(1000000)"
   ]
  },
  {
   "cell_type": "code",
   "execution_count": 11,
   "id": "4793e62c-b0c1-4660-a437-26e42b83244b",
   "metadata": {},
   "outputs": [],
   "source": [
    "L=[2,4,6,1,3,7,4,6,9,3,6,8,3,6,8,3,6,4,1,3,6,4,5,6,8,3,7,3,6,8]\n"
   ]
  },
  {
   "cell_type": "code",
   "execution_count": 12,
   "id": "7e9185d5-b374-4e02-8926-b48807348832",
   "metadata": {},
   "outputs": [
    {
     "name": "stdout",
     "output_type": "stream",
     "text": [
      "Maximum sum of any three consecutive elements: 19\n"
     ]
    }
   ],
   "source": [
    "L = [2, 4, 6, 1, 3, 7, 4, 6, 9, 3, 6, 8, 3, 6, 8, 3, 6, 4, 1, 3, 6, 4, 5, 6, 8, 3, 7, 3, 6, 8]\n",
    "\n",
    "max_sum = float('-inf')  \n",
    "\n",
    "for i in range(len(L) - 2):\n",
    "    triplet_sum = L[i] + L[i + 1] + L[i + 2]\n",
    "    max_sum = max(max_sum, triplet_sum)  \n",
    "\n",
    "print(\"Maximum sum of any three consecutive elements:\", max_sum)"
   ]
  },
  {
   "cell_type": "code",
   "execution_count": 14,
   "id": "4f96f1c9-897a-4f7b-a19f-32d02cc8abb7",
   "metadata": {},
   "outputs": [
    {
     "name": "stdout",
     "output_type": "stream",
     "text": [
      "19\n"
     ]
    }
   ],
   "source": [
    "L = [2, 4, 6, 1, 3, 7, 4, 6, 9, 3, 6, 8, 3, 6, 8, 3, 6, 4, 1, 3, 6, 4, 5, 6, 8, 3, 7, 3, 6, 8]\n",
    "\n",
    "max = 0\n",
    "for x in range(0,len(L)-2):\n",
    "    sum = L[x]+L[x+1]+L[x+2]\n",
    "    if(max<sum):\n",
    "        max=sum\n",
    "\n",
    "print(max)\n"
   ]
  },
  {
   "cell_type": "code",
   "execution_count": 1,
   "id": "637128ba-955e-48c7-96f7-2e2f3ba67e92",
   "metadata": {},
   "outputs": [
    {
     "name": "stdout",
     "output_type": "stream",
     "text": [
      "26\n"
     ]
    }
   ],
   "source": [
    "l=[2,4,6,1,3,7,4,6,9,3,6,8,3,6,4,1,3,9,6,4,5,6,8,3,7,3,6,8]\n",
    "n = len(l)\n",
    "sm = 0 \n",
    "for i in range(0, n):\n",
    "    for j in range(i + 1, n):\n",
    "        for k in range(j + 1, n):\n",
    "     \n",
    "            if (sm < (l[i] + l[j] + l[k])):\n",
    "                sm = l[i] + l[j] + l[k]\n",
    "print(sm)"
   ]
  },
  {
   "cell_type": "code",
   "execution_count": 2,
   "id": "bd6ffd4b-be75-4b47-b81e-043a181bf327",
   "metadata": {},
   "outputs": [
    {
     "name": "stdout",
     "output_type": "stream",
     "text": [
      "19\n"
     ]
    }
   ],
   "source": [
    "L=[2,4,6,1,3,7,4,6,9,3,6,8,3,6,4,1,3,9,6,4,5,6,8,3,7,3,6,8]\n",
    "n=len(L)\n",
    "max=0\n",
    "#find the  maximu SUM of any 3 consecutive elements of this array\n",
    "for i in range (0, n-2):\n",
    "    sum=L[i]+L[i+1]+L[i+2]\n",
    "    if max<sum:\n",
    "        max=sum\n",
    "\n",
    "\n",
    "print(max)"
   ]
  },
  {
   "cell_type": "code",
   "execution_count": 1,
   "id": "6f324981-a4b2-41f3-bc0a-99408d9cc92a",
   "metadata": {},
   "outputs": [
    {
     "name": "stdout",
     "output_type": "stream",
     "text": [
      "the biggest sum of 3  concegative number: 19\n"
     ]
    }
   ],
   "source": [
    "L=[2,4,6,1,3,7,4,6,9,3,6,8,3,6,4,1,3,9,6,4,5,6,8,3,7,3,6,8]\n",
    "max_1=0\n",
    "#find the  maximu SUM of any 3 consecutive elements of this array\n",
    "for i in range (0,len(L)-2):\n",
    "    sum=L[i]+L[i+1]+L[i+2]\n",
    "    max_1=max(max_1,sum)\n",
    "\n",
    "\n",
    "print(\"the biggest sum of 3  concegative number:\",max_1)"
   ]
  },
  {
   "cell_type": "code",
   "execution_count": 4,
   "id": "3db254ba-2da6-494d-aabf-9e83936ec4be",
   "metadata": {},
   "outputs": [
    {
     "name": "stdin",
     "output_type": "stream",
     "text": [
      "Enter the no of consecutive:  3\n"
     ]
    },
    {
     "name": "stdout",
     "output_type": "stream",
     "text": [
      "19\n"
     ]
    }
   ],
   "source": [
    "L=[2,4,6,1,3,7,4,6,9,3,6,8,3,6,4,1,3,9,6,4,5,6,8,3,7,3,6,8]\n",
    "\n",
    "max = 0\n",
    "n=int(input(\"Enter the no of consecutive: \"))\n",
    "#find the  maximu SUM of any 3 consecutive elements of this array\n",
    "for i in range (0, len(L)-n-1):\n",
    "    sum=0\n",
    "    for j in range(0,n):\n",
    "        sum=sum+L[i+j]\n",
    "    if max<sum:\n",
    "        max=sum\n",
    "\n",
    "\n",
    "print(max)"
   ]
  },
  {
   "cell_type": "code",
   "execution_count": 2,
   "id": "53d3c6a4-20aa-4b7a-bb9a-cf2c42b4f640",
   "metadata": {},
   "outputs": [
    {
     "name": "stdin",
     "output_type": "stream",
     "text": [
      "Enter the no of consecutive:  56\n"
     ]
    },
    {
     "name": "stdout",
     "output_type": "stream",
     "text": [
      "284\n"
     ]
    }
   ],
   "source": [
    "L=[2,4,6,1,3,7,4,6,9,3,6,8,3,6,4,1,3,9,6,4,5,6,8,3,7,3,6,8,2,4,6,1,3,7,4,6,9,3,6,8,3,6,4,1,3,9,6,4,5,6,8,3,2,4,6,1,3,7,4,6,9,3,6,8,3,6,4,1,3,9,6,4,5,6,8,3,2,4,6,1,3,7,4,6,9,3,6,8,3,6,4,1,3,9,6,4,5,6,8,3]\n",
    "max_1 = 0\n",
    "sum=0\n",
    "n=int(input(\"Enter the no of consecutive: \"))\n",
    "for i in range(0,len(L)):\n",
    "    sum=sum+L[i]\n",
    "    if i>=n:\n",
    "        sum=sum-L[i-n]\n",
    "    if i>=n-1:\n",
    "        max_1=max(max_1,sum)\n",
    "\n",
    "print(max_1)"
   ]
  },
  {
   "cell_type": "code",
   "execution_count": 6,
   "id": "599eb363-60ac-4ceb-99d8-e2a64be099ba",
   "metadata": {},
   "outputs": [
    {
     "name": "stdout",
     "output_type": "stream",
     "text": [
      "[9, 2, 4, 6, 2, 4, 1, 7]\n",
      "[1, 2, 2, 4, 4, 6, 7, 9]\n",
      "[9, 7, 6, 4, 4, 2, 2, 1]\n"
     ]
    }
   ],
   "source": [
    "arr=[9,2,4,6,2,4,1,7]\n",
    "print (arr)\n",
    "n=len(arr)\n",
    "for i in range(n):\n",
    "    for j in range(0,n-i-1):\n",
    "        if arr[j]>arr[j+1]:\n",
    "            arr[j],arr[j+1]=arr[j+1],arr[j]\n",
    "print(arr)\n",
    "print(arr[:: -1])"
   ]
  },
  {
   "cell_type": "code",
   "execution_count": 8,
   "id": "cb05f89f-19d5-472e-80df-54735b893c11",
   "metadata": {},
   "outputs": [
    {
     "name": "stdout",
     "output_type": "stream",
     "text": [
      "[0, 1, 2, 2, 4, 6, 7, 9, 3]\n"
     ]
    }
   ],
   "source": [
    "arr=[2,1,9,0,7,4,6,2,3]\n",
    "for i in range(0,len(arr)-1):\n",
    "    key=arr[i]\n",
    "    j=i-1\n",
    "    while j>-1 and key<arr[j]:\n",
    "        arr[j+1]=arr[j]\n",
    "        j-=1\n",
    "        arr[j+1]=key\n",
    "print(arr)"
   ]
  },
  {
   "cell_type": "code",
   "execution_count": null,
   "id": "79f9da6f-423d-4de4-bd9c-0a0e68674466",
   "metadata": {},
   "outputs": [],
   "source": []
  }
 ],
 "metadata": {
  "kernelspec": {
   "display_name": "Python 3 (ipykernel)",
   "language": "python",
   "name": "python3"
  },
  "language_info": {
   "codemirror_mode": {
    "name": "ipython",
    "version": 3
   },
   "file_extension": ".py",
   "mimetype": "text/x-python",
   "name": "python",
   "nbconvert_exporter": "python",
   "pygments_lexer": "ipython3",
   "version": "3.12.3"
  }
 },
 "nbformat": 4,
 "nbformat_minor": 5
}
