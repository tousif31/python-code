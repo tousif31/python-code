{
 "cells": [
  {
   "cell_type": "code",
   "execution_count": 9,
   "id": "c8b0b363-3015-49aa-85db-ea5ff583ad91",
   "metadata": {},
   "outputs": [
    {
     "name": "stdout",
     "output_type": "stream",
     "text": [
      "['r', 'o', 'c', 'k']\n",
      "k\n",
      "c\n",
      "o\n",
      "r\n"
     ]
    }
   ],
   "source": [
    "string=[]\n",
    "string.append(\"row\")\n",
    "string.append(\"o\")\n",
    "string.append(\"c\")\n",
    "string.append(\"k\")\n",
    "print(string)\n",
    "print(string.pop())\n",
    "print(string.pop())\n",
    "print(string.pop())\n",
    "print(string.pop())"
   ]
  },
  {
   "cell_type": "code",
   "execution_count": 10,
   "id": "270dce7c-be37-40cb-962f-ef08dba1b13f",
   "metadata": {},
   "outputs": [
    {
     "name": "stdout",
     "output_type": "stream",
     "text": [
      "d l r o w   o l l e h \n"
     ]
    }
   ],
   "source": [
    "my_string = \"hello world\"\n",
    "stack = []\n",
    "\n",
    "for char in my_string:\n",
    "    stack.append(char)\n",
    "\n",
    "while stack:\n",
    "    print(stack.pop(), end=\" \")\n",
    "\n",
    "print()\n"
   ]
  },
  {
   "cell_type": "code",
   "execution_count": 11,
   "id": "5f2f5d91-f068-488b-8844-62309a50845f",
   "metadata": {},
   "outputs": [
    {
     "name": "stdout",
     "output_type": "stream",
     "text": [
      "d l r o w   o l l e h \n"
     ]
    }
   ],
   "source": [
    "my_string = \"hello world\"\n",
    "stack = []\n",
    "\n",
    "for char in my_string:\n",
    "    stack.append(char)\n",
    "\n",
    "for _ in range(len(stack)):\n",
    "    print(stack.pop(), end=\" \")\n",
    "\n",
    "print()\n"
   ]
  },
  {
   "cell_type": "code",
   "execution_count": 13,
   "id": "278fcc92-f2a6-42ac-be55-e7a13a1a29ee",
   "metadata": {},
   "outputs": [
    {
     "name": "stdin",
     "output_type": "stream",
     "text": [
      " this a car\n"
     ]
    },
    {
     "name": "stdout",
     "output_type": "stream",
     "text": [
      "car a this \n"
     ]
    }
   ],
   "source": [
    "string=input()\n",
    "words = string.split()\n",
    "stack = []\n",
    "\n",
    "for word in words:\n",
    "    stack.append(word)\n",
    "\n",
    "while stack:\n",
    "    print(stack.pop(), end=\" \")\n",
    "\n",
    "print()\n"
   ]
  },
  {
   "cell_type": "code",
   "execution_count": 14,
   "id": "8bf497ad-a5ea-4868-80b4-dfcc5d67e782",
   "metadata": {},
   "outputs": [
    {
     "name": "stdin",
     "output_type": "stream",
     "text": [
      "Enter the infix expression:  (a+b)*c\n"
     ]
    },
    {
     "name": "stdout",
     "output_type": "stream",
     "text": [
      "Postfix expression is: ab+c*\n"
     ]
    }
   ],
   "source": [
    "def infix_to_postfix(infix):\n",
    "    postfix = []\n",
    "    stack = ['#']\n",
    "    priority = {'^': 3, '*': 2, '/': 2, '%': 2, '+': 1, '-': 1, '(': 0, '#': 0}\n",
    "    for char in infix:\n",
    "        if char.isalnum():\n",
    "            postfix.append(char)\n",
    "        elif char == '(':\n",
    "            stack.append(char)\n",
    "        elif char == ')':\n",
    "            while stack[-1] != '(':\n",
    "                postfix.append(stack.pop())\n",
    "            stack.pop()  \n",
    "        else:\n",
    "            while priority[stack[-1]] >= priority[char]:\n",
    "                postfix.append(stack.pop())\n",
    "                \n",
    "            stack.append(char)\n",
    "    postfix.extend(reversed(stack[1:]))\n",
    "    return ''.join(postfix)\n",
    "\n",
    "infix_expression = input(\"Enter the infix expression: \")\n",
    "print(\"Postfix expression is:\", infix_to_postfix(infix_expression))\n"
   ]
  },
  {
   "cell_type": "code",
   "execution_count": 19,
   "id": "b5613ce4-f434-430c-9f95-99a16b623e08",
   "metadata": {},
   "outputs": [
    {
     "name": "stdin",
     "output_type": "stream",
     "text": [
      " A+b\n"
     ]
    },
    {
     "name": "stdout",
     "output_type": "stream",
     "text": [
      " Ab+\n"
     ]
    }
   ],
   "source": [
    "def prec(c):\n",
    "    if c == '^':\n",
    "        return 3\n",
    "    elif c == '/' or '*':\n",
    "        return 2\n",
    "    elif c == '+' or '-':\n",
    "        return 1\n",
    "    else:\n",
    "        return -1\n",
    "def associativity(c):\n",
    "    if c == '^':\n",
    "        return 'R'\n",
    "    else:\n",
    "        return 'L'\n",
    "\n",
    "exp=input()\n",
    "result=\" \"\n",
    "s=[]\n",
    "for e in exp:\n",
    "    if e.isalnum():\n",
    "        result+=e\n",
    "    elif e == '(' or '[' or '{':\n",
    "        s.append(e)\n",
    "    elif e== ')' or ']' or '}':\n",
    "        while s or s[-1] != '('or '['  or '{':\n",
    "            result += s.pop()\n",
    "        s.pop()\n",
    "    else:\n",
    "        while s and (prec(e)<prec(s[-1])or (prec(e) == prec(s[-1]) and associativity(e) == 'L')):\n",
    "            result+=s.pop()\n",
    "        s.append(e)\n",
    "while s:\n",
    "    result+=s.pop()\n",
    "print(result)"
   ]
  },
  {
   "cell_type": "code",
   "execution_count": 24,
   "id": "866ee74b-a385-4301-bb9d-3ad48607732e",
   "metadata": {},
   "outputs": [
    {
     "name": "stdin",
     "output_type": "stream",
     "text": [
      " A D C R R A A D R D C C\n"
     ]
    },
    {
     "name": "stdout",
     "output_type": "stream",
     "text": [
      "['A', 'D', 'C', 'R', 'R', 'A', 'A', 'D', 'R', 'D', 'C', 'C']\n",
      "6 ['A', 'D', 'C', 'D', 'R', 'D']\n"
     ]
    }
   ],
   "source": [
    "a=[item for item in input().split()]\n",
    "print(a)\n",
    "s=[]\n",
    "for item in a:\n",
    "    if not s:\n",
    "        s.append(item)\n",
    "    elif s[-1] == item:\n",
    "        s.pop()\n",
    "    else:\n",
    "        s.append(item)\n",
    "\n",
    "print(len(s),s)"
   ]
  },
  {
   "cell_type": "code",
   "execution_count": 4,
   "id": "418904d9-dd9b-4b89-b87c-9d3b92b996a8",
   "metadata": {},
   "outputs": [
    {
     "ename": "NameError",
     "evalue": "name 'stack' is not defined",
     "output_type": "error",
     "traceback": [
      "\u001b[1;31m---------------------------------------------------------------------------\u001b[0m",
      "\u001b[1;31mNameError\u001b[0m                                 Traceback (most recent call last)",
      "Cell \u001b[1;32mIn[4], line 1\u001b[0m\n\u001b[1;32m----> 1\u001b[0m \u001b[38;5;28;43;01mclass\u001b[39;49;00m\u001b[43m \u001b[49m\u001b[38;5;21;43;01mstack\u001b[39;49;00m\u001b[43m:\u001b[49m\n\u001b[0;32m      2\u001b[0m \u001b[43m    \u001b[49m\u001b[38;5;28;43;01mdef\u001b[39;49;00m\u001b[43m \u001b[49m\u001b[38;5;21;43m__init__\u001b[39;49m\u001b[43m(\u001b[49m\u001b[38;5;28;43mself\u001b[39;49m\u001b[43m)\u001b[49m\u001b[43m:\u001b[49m\n\u001b[0;32m      3\u001b[0m \u001b[43m        \u001b[49m\u001b[38;5;28;43mself\u001b[39;49m\u001b[38;5;241;43m.\u001b[39;49m\u001b[43mitems\u001b[49m\u001b[38;5;241;43m=\u001b[39;49m\u001b[43m[\u001b[49m\u001b[43m]\u001b[49m\n",
      "Cell \u001b[1;32mIn[4], line 41\u001b[0m, in \u001b[0;36mstack\u001b[1;34m()\u001b[0m\n\u001b[0;32m     37\u001b[0m     \u001b[38;5;28;01melse\u001b[39;00m:\n\u001b[0;32m     38\u001b[0m         \u001b[38;5;28;01mreturn\u001b[39;00m \u001b[38;5;28;01mFalse\u001b[39;00m\n\u001b[1;32m---> 41\u001b[0m \u001b[38;5;28mprint\u001b[39m(\u001b[43mparChecker\u001b[49m\u001b[43m(\u001b[49m\u001b[38;5;124;43m\"\u001b[39;49m\u001b[38;5;124;43m[((\u001b[39;49m\u001b[38;5;132;43;01m{fdf}\u001b[39;49;00m\u001b[38;5;124;43m))\u001b[39;49m\u001b[38;5;124;43m\"\u001b[39;49m\u001b[43m)\u001b[49m)\n",
      "Cell \u001b[1;32mIn[4], line 22\u001b[0m, in \u001b[0;36mstack.parChecker\u001b[1;34m(symbolString)\u001b[0m\n\u001b[0;32m     21\u001b[0m \u001b[38;5;28;01mdef\u001b[39;00m \u001b[38;5;21mparChecker\u001b[39m(symbolString):\n\u001b[1;32m---> 22\u001b[0m     s \u001b[38;5;241m=\u001b[39m \u001b[43mstack\u001b[49m()\n\u001b[0;32m     23\u001b[0m     balanced \u001b[38;5;241m=\u001b[39m \u001b[38;5;28;01mTrue\u001b[39;00m\n\u001b[0;32m     24\u001b[0m     index \u001b[38;5;241m=\u001b[39m \u001b[38;5;241m0\u001b[39m\n",
      "\u001b[1;31mNameError\u001b[0m: name 'stack' is not defined"
     ]
    }
   ],
   "source": [
    "class stack:\n",
    "    def __init__(self):\n",
    "        self.items=[]\n",
    "\n",
    "    def is_Empty(self):\n",
    "        return self.item ==[]\n",
    "\n",
    "    def push(self,item):\n",
    "        self.items.append(item)\n",
    "\n",
    "    def pop(self):\n",
    "        return self.items.pop()\n",
    "\n",
    "    def peek(self):\n",
    "        return self.items[len(items)-1]\n",
    "\n",
    "    def size(self):\n",
    "        return len(self.items)\n",
    "\n",
    "\n",
    "    def parChecker(symbolString):\n",
    "        s = stack()\n",
    "        balanced = True\n",
    "        index = 0\n",
    "        while index < len(symbolString) and balanced:\n",
    "            symbol = symbolString[index]\n",
    "            if symbol in \"({[\":\n",
    "                s.push(symbol)\n",
    "            elif symbol in \")}]\":\n",
    "                if s.is_Empty():\n",
    "                    balanced = False\n",
    "                else:\n",
    "                    s.pop()\n",
    "            index +=1\n",
    "        if balanced and s.is_Empty():\n",
    "            return True\n",
    "        else:\n",
    "            return False\n",
    "\n",
    "\n",
    "    print(parChecker(\"[(({fdf}))\"))"
   ]
  },
  {
   "cell_type": "code",
   "execution_count": null,
   "id": "cc4e477f-257a-4cf8-9a3a-f5674a342a14",
   "metadata": {},
   "outputs": [],
   "source": [
    "s=input()\n",
    "s=[]\n",
    "for e in s:\n",
    "    if e == \"(\" or e == \"{\" or e == \"[\":\n",
    "        s.append(e)\n",
    "\n",
    "\n"
   ]
  }
 ],
 "metadata": {
  "kernelspec": {
   "display_name": "Python 3 (ipykernel)",
   "language": "python",
   "name": "python3"
  },
  "language_info": {
   "codemirror_mode": {
    "name": "ipython",
    "version": 3
   },
   "file_extension": ".py",
   "mimetype": "text/x-python",
   "name": "python",
   "nbconvert_exporter": "python",
   "pygments_lexer": "ipython3",
   "version": "3.12.3"
  }
 },
 "nbformat": 4,
 "nbformat_minor": 5
}
