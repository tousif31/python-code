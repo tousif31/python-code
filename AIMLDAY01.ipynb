{
 "cells": [
  {
   "cell_type": "code",
   "execution_count": 1,
   "id": "5c2cd2af-141a-4bb2-b2ae-2e43e8fd1c62",
   "metadata": {},
   "outputs": [
    {
     "name": "stdout",
     "output_type": "stream",
     "text": [
      "heelo\n"
     ]
    }
   ],
   "source": [
    "print(\"heelo\")"
   ]
  },
  {
   "cell_type": "code",
   "execution_count": 5,
   "id": "a7b7d0b9-bc78-49ed-848c-a51129e9bb92",
   "metadata": {},
   "outputs": [
    {
     "name": "stdout",
     "output_type": "stream",
     "text": [
      "<class 'int'>\n",
      "<class 'float'>\n",
      "<class 'str'>\n",
      "7.5\n"
     ]
    }
   ],
   "source": [
    "a=5\n",
    "b=2.5\n",
    "c='a'\n",
    "\n",
    "print(type(a))\n",
    "print(type(b))\n",
    "print(type(c))\n",
    "\n",
    "print(a+b)\n",
    "#print(c+a)\n",
    "#print(a+c)\n",
    "\n"
   ]
  },
  {
   "cell_type": "code",
   "execution_count": 8,
   "id": "f410df38-ea8b-469e-a74e-2cf52379e756",
   "metadata": {},
   "outputs": [
    {
     "name": "stdout",
     "output_type": "stream",
     "text": [
      "5\n",
      "<class 'int'>\n",
      "5.5\n",
      "<class 'float'>\n",
      "5\n",
      "<class 'str'>\n",
      "[5.7]\n",
      "<class 'list'>\n",
      "(2, 3)\n",
      "<class 'tuple'>\n",
      "range(0, 10)\n",
      "<class 'range'>\n",
      "{'add': 5}\n",
      "<class 'dict'>\n"
     ]
    }
   ],
   "source": [
    "a=5\n",
    "print(a)\n",
    "print(type(a))\n",
    "\n",
    "\n",
    "a=5.5\n",
    "print(a)\n",
    "print(type(a))\n",
    "\n",
    "\n",
    "a=\"5\"\n",
    "print(a)\n",
    "print(type(a))\n",
    "\n",
    "a=[5.7]\n",
    "print(a)\n",
    "print(type(a))\n",
    "\n",
    "a=(2,3)\n",
    "print(a)\n",
    "print(type(a))\n",
    "\n",
    "\n",
    "a=range(0,10)\n",
    "print(a)\n",
    "print(type(a))\n",
    "\n",
    "a={\"add\":5}\n",
    "print(a)\n",
    "print(type(a))"
   ]
  },
  {
   "cell_type": "code",
   "execution_count": 11,
   "id": "a8da877e-e9a6-4dea-a952-06d42bffdbb0",
   "metadata": {},
   "outputs": [
    {
     "name": "stdout",
     "output_type": "stream",
     "text": [
      "5\n",
      "<class 'int'>\n",
      "5.5\n",
      "<class 'float'>\n",
      "5\n",
      "<class 'str'>\n",
      "[5.7]\n",
      "<class 'list'>\n",
      "(2, 3)\n",
      "<class 'tuple'>\n",
      "range(0, 10)\n",
      "<class 'range'>\n",
      "{'add': 5}\n",
      "<class 'dict'>\n",
      "10\n",
      "10\n",
      "10\n",
      "1\n",
      "2\n",
      "3\n",
      "abc afaf ssfs\n",
      "abc afaf ssfs dkk\n",
      "abcafafssfseiwei\n"
     ]
    }
   ],
   "source": [
    "a=5\n",
    "print(a)\n",
    "print(type(a))\n",
    "\n",
    "\n",
    "a=5.5\n",
    "print(a)\n",
    "print(type(a))\n",
    "\n",
    "\n",
    "a=\"5\"\n",
    "print(a)\n",
    "print(type(a))\n",
    "\n",
    "a=[5.7]\n",
    "print(a)\n",
    "print(type(a))\n",
    "\n",
    "a=(2,3)\n",
    "print(a)\n",
    "print(type(a))\n",
    "\n",
    "\n",
    "a=range(0,10)\n",
    "print(a)\n",
    "print(type(a))\n",
    "\n",
    "a={\"add\":5}\n",
    "print(a)\n",
    "print(type(a))\n",
    "\n",
    "\n",
    "\n",
    "\n",
    "\n",
    "\n"
   ]
  },
  {
   "cell_type": "code",
   "execution_count": 12,
   "id": "a66c3b35-fcf9-4b8f-8e98-b0b29289926a",
   "metadata": {},
   "outputs": [
    {
     "name": "stdout",
     "output_type": "stream",
     "text": [
      "10\n",
      "10\n",
      "10\n",
      "1\n",
      "2\n",
      "3\n",
      "abc afaf ssfs\n",
      "abc afaf ssfs dkk\n",
      "abcafafssfseiwei\n"
     ]
    }
   ],
   "source": [
    "a=b=c=10\n",
    "print(a)\n",
    "print(b)\n",
    "print(c)\n",
    "\n",
    "\n",
    "a,b,c={1,2,3}\n",
    "print(a)\n",
    "print(b)\n",
    "print(c)\n",
    "\n",
    "\n",
    "a=\"abc\"\n",
    "b=\"afaf\"\n",
    "c=\"ssfs\"\n",
    "print(a,b,c)\n",
    "print(a,b,c,\"dkk\")\n",
    "print(a+b+c+\"eiwei\")\n",
    "\n"
   ]
  },
  {
   "cell_type": "code",
   "execution_count": 13,
   "id": "fd23312b-7cb6-44a2-be20-11abfda9fb9e",
   "metadata": {},
   "outputs": [
    {
     "name": "stdin",
     "output_type": "stream",
     "text": [
      " 5\n"
     ]
    },
    {
     "name": "stdout",
     "output_type": "stream",
     "text": [
      "5\n",
      "<class 'str'>\n"
     ]
    }
   ],
   "source": [
    "a=input()\n",
    "print(a)\n",
    "print(type(a))"
   ]
  },
  {
   "cell_type": "code",
   "execution_count": 14,
   "id": "812ca4ec-8747-43f1-bfbe-0d7c33fefdd6",
   "metadata": {},
   "outputs": [
    {
     "name": "stdin",
     "output_type": "stream",
     "text": [
      " 5\n",
      " 7\n"
     ]
    },
    {
     "name": "stdout",
     "output_type": "stream",
     "text": [
      "12\n",
      "<class 'str'>\n",
      "<class 'str'>\n"
     ]
    }
   ],
   "source": [
    "a=input()\n",
    "b=input()\n",
    "c=int(a)+int(b)\n",
    "print(c)\n",
    "print(type(a))\n",
    "print(type(b))\n",
    "print(type(c))"
   ]
  },
  {
   "cell_type": "code",
   "execution_count": 15,
   "id": "1b55a870-21ff-49d9-9c3a-f61be238971f",
   "metadata": {},
   "outputs": [
    {
     "name": "stdin",
     "output_type": "stream",
     "text": [
      " 5\n",
      " 7\n"
     ]
    },
    {
     "name": "stdout",
     "output_type": "stream",
     "text": [
      "12\n",
      "<class 'int'>\n",
      "<class 'int'>\n",
      "<class 'int'>\n"
     ]
    }
   ],
   "source": [
    "a=int(input())\n",
    "b=int(input())\n",
    "c=a+b\n",
    "print(c)\n",
    "print(type(a))\n",
    "print(type(b))\n",
    "print(type(c))"
   ]
  },
  {
   "cell_type": "code",
   "execution_count": 16,
   "id": "28cb1b3b-63d6-41c7-a3e2-2a6682e3584b",
   "metadata": {},
   "outputs": [
    {
     "name": "stdin",
     "output_type": "stream",
     "text": [
      "enter the first no:  3\n",
      "enter the secound no:  5\n"
     ]
    },
    {
     "name": "stdout",
     "output_type": "stream",
     "text": [
      "8\n"
     ]
    }
   ],
   "source": [
    "a=int(input(\"enter the first no: \"))\n",
    "b=int(input(\"enter the secound no: \"))\n",
    "c=a+b\n",
    "print(c)"
   ]
  },
  {
   "cell_type": "code",
   "execution_count": 17,
   "id": "736448bd-b2c0-4366-a14a-78f30581f73c",
   "metadata": {},
   "outputs": [
    {
     "name": "stdin",
     "output_type": "stream",
     "text": [
      "Enter three number:  4 5 6\n"
     ]
    },
    {
     "name": "stdout",
     "output_type": "stream",
     "text": [
      "456\n"
     ]
    }
   ],
   "source": [
    "a,b,c=input(\"Enter three number: \").split()\n",
    "\n",
    "d=a+b+c\n",
    "print(d)"
   ]
  },
  {
   "cell_type": "code",
   "execution_count": 20,
   "id": "37c3be6a-6731-4af7-9647-6f65343cebc2",
   "metadata": {},
   "outputs": [
    {
     "name": "stdin",
     "output_type": "stream",
     "text": [
      "enter the first no:  10\n",
      "enter the secound no:  5\n"
     ]
    },
    {
     "name": "stdout",
     "output_type": "stream",
     "text": [
      "15\n",
      "5\n",
      "2.0\n",
      "50\n",
      "0\n",
      "15\n"
     ]
    }
   ],
   "source": [
    "a=int(input(\"enter the first no: \"))\n",
    "b=int(input(\"enter the secound no: \"))\n",
    "c=a+b\n",
    "print(c)\n",
    "c=a-b\n",
    "print(c)\n",
    "c=a/b\n",
    "print(c)\n",
    "c=a*b\n",
    "print(c)\n",
    "c=a%b\n",
    "print(c)\n",
    "c=a^b\n",
    "print(c)\n",
    "\n",
    "\n",
    "\n"
   ]
  },
  {
   "cell_type": "code",
   "execution_count": null,
   "id": "0b4ee9e7-b7f1-4dc0-9319-4851566cc2b9",
   "metadata": {},
   "outputs": [],
   "source": []
  }
 ],
 "metadata": {
  "kernelspec": {
   "display_name": "Python 3 (ipykernel)",
   "language": "python",
   "name": "python3"
  },
  "language_info": {
   "codemirror_mode": {
    "name": "ipython",
    "version": 3
   },
   "file_extension": ".py",
   "mimetype": "text/x-python",
   "name": "python",
   "nbconvert_exporter": "python",
   "pygments_lexer": "ipython3",
   "version": "3.12.3"
  }
 },
 "nbformat": 4,
 "nbformat_minor": 5
}
