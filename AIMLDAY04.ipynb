{
 "cells": [
  {
   "cell_type": "code",
   "execution_count": 3,
   "id": "74de6abc-21f9-409f-9e40-13d1e14964c3",
   "metadata": {},
   "outputs": [
    {
     "name": "stdin",
     "output_type": "stream",
     "text": [
      "Enter a character:  ^\n"
     ]
    },
    {
     "name": "stdout",
     "output_type": "stream",
     "text": [
      "The character is a special character\n"
     ]
    }
   ],
   "source": [
    "char = input(\"Enter a character: \")\n",
    "\n",
    "if char.islower():\n",
    "    print(\"The character is lower case\")\n",
    "elif char.isupper():\n",
    "    print(\"The character is upper case\")\n",
    "elif char.isdigit():\n",
    "    print(\"The character is a numeric digit\")\n",
    "else:\n",
    "    print(\"The character is a special character\")"
   ]
  },
  {
   "cell_type": "code",
   "execution_count": 4,
   "id": "da5004ab-9d14-4cc4-83ee-4f8370ce201d",
   "metadata": {},
   "outputs": [
    {
     "name": "stdin",
     "output_type": "stream",
     "text": [
      "Enter the number of elements in the list:  1\n",
      "Enter element:  2\n"
     ]
    },
    {
     "name": "stdout",
     "output_type": "stream",
     "text": [
      "Sum of numeric values in the list: 2\n"
     ]
    }
   ],
   "source": [
    "a = []\n",
    "n = int(input(\"Enter the number of elements in the list: \"))\n",
    "for x in range(n):\n",
    "    element = input(\"Enter element: \")\n",
    "    a.append(element)\n",
    "\n",
    "s = 0\n",
    "\n",
    "for i in a:\n",
    "    try:\n",
    "        s += int(i)  \n",
    "    except:\n",
    "        print(\"Cannot add non-numeric value\")\n",
    "\n",
    "print(\"Sum of numeric values in the list:\", s)\n"
   ]
  },
  {
   "cell_type": "code",
   "execution_count": 13,
   "id": "622348a5-023b-4ef6-9963-1c09a713f3bd",
   "metadata": {},
   "outputs": [
    {
     "name": "stdin",
     "output_type": "stream",
     "text": [
      "1.AIML\n",
      "2.CSE\n",
      "Enter choice:  0\n"
     ]
    },
    {
     "name": "stdout",
     "output_type": "stream",
     "text": [
      "EMPTY feeds in this class\n",
      "Average of Whole class =0\n"
     ]
    }
   ],
   "source": [
    "aiml={'student1':7.8,'student2':7.6,'student3':9.4,'student4':8.8,'student5':9.8}\n",
    "cse={}\n",
    "s=0\n",
    "avg=0\n",
    "ch=int(input('1.AIML\\n2.CSE\\nEnter choice: '))\n",
    "try:\n",
    "    if ch==1:\n",
    "        for i in aiml:\n",
    "            s+=aiml[i]\n",
    "        avg=s/len(aiml)\n",
    "    else:\n",
    "        for i in cse:\n",
    "            s+=cse[i]\n",
    "        avg=s/len(cse)\n",
    "except:\n",
    "    print(\"EMPTY feeds in this class\")\n",
    "finally:\n",
    "    print(f'Average of Whole class ={avg}')"
   ]
  },
  {
   "cell_type": "code",
   "execution_count": 16,
   "id": "0fae327c-c509-4575-9a2d-78a38fce3ec8",
   "metadata": {},
   "outputs": [
    {
     "name": "stdin",
     "output_type": "stream",
     "text": [
      " abcba\n"
     ]
    },
    {
     "name": "stdout",
     "output_type": "stream",
     "text": [
      "pallindrome\n"
     ]
    }
   ],
   "source": [
    "a=input()\n",
    "flag=0\n",
    "\n",
    "for i in range(0,int(len(a)/2)):\n",
    "    if a[i] !=a[(i+1)*-1]:\n",
    "        flag=1\n",
    "        break\n",
    "if flag:\n",
    "    print(\"Not Pallindrome\")\n",
    "else:\n",
    "    print(\"pallindrome\")"
   ]
  },
  {
   "cell_type": "code",
   "execution_count": 27,
   "id": "f81e2499-68a4-4287-b3df-328a0255adc4",
   "metadata": {},
   "outputs": [
    {
     "name": "stdout",
     "output_type": "stream",
     "text": [
      "128348 is not a prime number.\n"
     ]
    }
   ],
   "source": [
    "def is_prime(n):\n",
    "    if n <= 1:\n",
    "        return False\n",
    "    elif n == 2:\n",
    "        return True\n",
    "    else:\n",
    "        for i in range(2, n // 2 + 1):\n",
    "            if n % i == 0:\n",
    "                return False\n",
    "        return True\n",
    "\n",
    "number = 128348\n",
    "if is_prime(number):\n",
    "    print(f\"{number} is a prime number.\")\n",
    "else:\n",
    "    print(f\"{number} is not a prime number.\")\n"
   ]
  },
  {
   "cell_type": "code",
   "execution_count": 35,
   "id": "25ec6c2c-f78d-4d88-bac2-fba51011871f",
   "metadata": {},
   "outputs": [
    {
     "name": "stdin",
     "output_type": "stream",
     "text": [
      " 23\n"
     ]
    },
    {
     "name": "stdout",
     "output_type": "stream",
     "text": [
      "prime\n"
     ]
    }
   ],
   "source": [
    "n=int(input())\n",
    "\n",
    "for x in range(2,int(n/2)):\n",
    "    if n%x==0:\n",
    "        print(\"not prime\")\n",
    "        break\n",
    "else:\n",
    "    print(\"prime\")"
   ]
  },
  {
   "cell_type": "code",
   "execution_count": 41,
   "id": "a15eade5-e5a2-428c-9f19-ee866954fe0f",
   "metadata": {},
   "outputs": [],
   "source": [
    "import os\n",
    "with open(\"file.txt\",'w') as f:\n",
    "    f.write(\"This is first text  in file\")\n",
    "    f.close()"
   ]
  },
  {
   "cell_type": "code",
   "execution_count": 40,
   "id": "651c9dd2-8860-45a8-93ac-94ab24e62b0e",
   "metadata": {},
   "outputs": [
    {
     "name": "stdout",
     "output_type": "stream",
     "text": [
      "This is first text  in file\n"
     ]
    }
   ],
   "source": [
    "import os\n",
    "with open(\"file.txt\", 'r') as f:\n",
    "    contents = f.read()\n",
    "    print(contents)"
   ]
  },
  {
   "cell_type": "code",
   "execution_count": 44,
   "id": "50c1841e-1c76-4698-a251-6c3bd4fb2348",
   "metadata": {},
   "outputs": [
    {
     "name": "stdout",
     "output_type": "stream",
     "text": [
      "This is first text  in file\n",
      "111\n"
     ]
    }
   ],
   "source": [
    "import os\n",
    "\n",
    "\n",
    "\n",
    "with open(\"file.txt\",'r')as f:\n",
    "    for a in f.read().split(\"\\n\"):\n",
    "         print(a)\n",
    "         print(\"111\")\n",
    "    f.close()"
   ]
  },
  {
   "cell_type": "code",
   "execution_count": 46,
   "id": "dfcdf41c-5cb9-4dd8-a896-b761747a1de2",
   "metadata": {},
   "outputs": [
    {
     "name": "stdin",
     "output_type": "stream",
     "text": [
      "Enter the file name:  tousif\n",
      "Enter a fruit name (or type 'done' to finish):  banana\n",
      "Enter a fruit name (or type 'done' to finish):  done\n"
     ]
    },
    {
     "name": "stdout",
     "output_type": "stream",
     "text": [
      "Current contents of the file:\n",
      "banana\n"
     ]
    },
    {
     "name": "stdin",
     "output_type": "stream",
     "text": [
      "Enter the fruit name to be replaced:  done\n",
      "Enter the new fruit name:  done\n"
     ]
    }
   ],
   "source": [
    "file_name = input(\"Enter the file name: \")\n",
    "\n",
    "\n",
    "with open(file_name, 'w') as f:\n",
    "    while True:\n",
    "        fruit = input(\"Enter a fruit name (or type 'done' to finish): \")\n",
    "        if fruit.lower() == 'done':\n",
    "            break\n",
    "        f.write(fruit + '\\n')\n",
    "\n",
    "\n",
    "with open(file_name, 'r') as f:\n",
    "    fruits = f.readlines()\n",
    "\n",
    "\n",
    "print(\"Current contents of the file:\")\n",
    "for fruit in fruits:\n",
    "    print(fruit.strip())\n",
    "\n",
    "\n",
    "old_fruit = input(\"Enter the fruit name to be replaced: \")\n",
    "new_fruit = input(\"Enter the new fruit name: \")\n",
    "\n",
    "with open(file_name, 'w') as f:\n",
    "    for fruit in fruits:\n",
    "        if fruit.strip() == old_fruit:\n",
    "            f.write(new_fruit + '\\n')\n",
    "        else:\n",
    "            f.write(fruit)\n",
    "            \n"
   ]
  },
  {
   "cell_type": "code",
   "execution_count": 47,
   "id": "82b81889-6e8b-4076-8d6f-c35cdd1bfeed",
   "metadata": {},
   "outputs": [
    {
     "name": "stdin",
     "output_type": "stream",
     "text": [
      "Enter the deg in celsiuos 38\n"
     ]
    },
    {
     "name": "stdout",
     "output_type": "stream",
     "text": [
      "100.4\n"
     ]
    }
   ],
   "source": [
    "c=int(input(\"Enter the deg in celsiuos\"))\n",
    "f=(c*9/5)+32\n",
    "print(f)"
   ]
  },
  {
   "cell_type": "code",
   "execution_count": 49,
   "id": "bbb7c6f8-47bb-49fa-947b-d3df5b4db2c2",
   "metadata": {},
   "outputs": [
    {
     "name": "stdout",
     "output_type": "stream",
     "text": [
      "Second largest element: 8\n"
     ]
    }
   ],
   "source": [
    "def second_largest(nums):\n",
    "    unique_nums = sorted(set(nums))\n",
    "    return unique_nums[-2] if len(unique_nums) > 1 else \"List must have at least two elements.\"\n",
    "\n",
    "\n",
    "numbers = [10, 5, 7, 3, 1, 8]\n",
    "print(\"Second largest element:\", second_largest(numbers))"
   ]
  },
  {
   "cell_type": "code",
   "execution_count": 50,
   "id": "27f6946c-7741-4d15-a7c4-f8881508413f",
   "metadata": {},
   "outputs": [
    {
     "name": "stdout",
     "output_type": "stream",
     "text": [
      "Reversed sentence: sentence test a is This\n"
     ]
    }
   ],
   "source": [
    "def reverse_sentence(sentence):\n",
    "    return ' '.join(sentence.split()[::-1])\n",
    "\n",
    "sentence = \"This is a test sentence\"\n",
    "print(\"Reversed sentence:\", reverse_sentence(sentence))\n"
   ]
  },
  {
   "cell_type": "code",
   "execution_count": 54,
   "id": "9ad7ad81-0f31-4bca-8a87-506459b48a4a",
   "metadata": {},
   "outputs": [
    {
     "name": "stdin",
     "output_type": "stream",
     "text": [
      "Enter the list of numbers separated by space:  1\n"
     ]
    },
    {
     "name": "stdout",
     "output_type": "stream",
     "text": [
      "List must have at least two elements.\n"
     ]
    }
   ],
   "source": [
    "nums = list(map(int, input(\"Enter the list of numbers separated by space: \").split()))\n",
    "\n",
    "\n",
    "sort = sorted(set(nums))\n",
    "\n",
    "if len(sort) > 1:\n",
    "    print(\"Second largest element:\", sort[-2])\n",
    "else:\n",
    "    print(\"List must have at least two elements.\")\n"
   ]
  },
  {
   "cell_type": "code",
   "execution_count": null,
   "id": "dc4f61ba-e07c-4721-93cb-3d41e77c33c8",
   "metadata": {},
   "outputs": [],
   "source": [
    "elements = input(\"Enter the list of elements separated by space: \").split()\n",
    "\n",
    "counts = {element: elements.count(element) for element in set(elements)}\n",
    "\n",
    "for element, count in counts.items():\n",
    "    print(f\"{element}: {count}\")\n"
   ]
  },
  {
   "cell_type": "code",
   "execution_count": 1,
   "id": "d824cb6a-b6f2-4999-b251-67570168a4ca",
   "metadata": {},
   "outputs": [
    {
     "name": "stdout",
     "output_type": "stream",
     "text": [
      "89\n"
     ]
    }
   ],
   "source": [
    "#find the second largest element in a list.\n",
    "\n",
    "l=[12,23,45,67,89,44,55,88,99,]\n",
    "l.sort()\n",
    "print(l[-2])"
   ]
  },
  {
   "cell_type": "code",
   "execution_count": 2,
   "id": "c56b9ac6-b693-47ac-9166-485b09aee3c4",
   "metadata": {},
   "outputs": [
    {
     "name": "stdout",
     "output_type": "stream",
     "text": [
      "4\n"
     ]
    }
   ],
   "source": [
    "\n",
    "#count the occurrences of each element in a list.\n",
    "\n",
    "num=[1,2,3,4,5,6,7,7,56,56,56,56,78]\n",
    "count_ara=num.count(56)\n",
    "print(count_ara)"
   ]
  },
  {
   "cell_type": "code",
   "execution_count": 3,
   "id": "d04ec3f8-a286-458b-9e9c-b8f5374f2255",
   "metadata": {},
   "outputs": [
    {
     "name": "stdout",
     "output_type": "stream",
     "text": [
      "3\n"
     ]
    }
   ],
   "source": [
    "##count the occurrences of each element in a list.\n",
    "char=['a','c','d','a','a']\n",
    "count_amigo=char.count('a')\n",
    "print(count_amigo)"
   ]
  },
  {
   "cell_type": "code",
   "execution_count": 4,
   "id": "7a48fa8e-85c9-4424-b5e6-518796c15049",
   "metadata": {},
   "outputs": [
    {
     "name": "stdout",
     "output_type": "stream",
     "text": [
      "2\n",
      "4\n",
      "6\n"
     ]
    }
   ],
   "source": [
    "\n",
    "#find the sum of all even numbers in a list.\n",
    "\n",
    "num=[1,2,3,4,5,6,7]\n",
    "\n",
    "for n in num :\n",
    "      if n % 2== 0:\n",
    "\n",
    "        print(n)"
   ]
  },
  {
   "cell_type": "code",
   "execution_count": 5,
   "id": "72319bae-5801-446d-9436-f2a45c08cb9f",
   "metadata": {},
   "outputs": [
    {
     "name": "stdout",
     "output_type": "stream",
     "text": [
      "yad doog a evah\n"
     ]
    }
   ],
   "source": [
    "#Reverse the words in a given sentence.\n",
    "str=\"have a good day\"\n",
    "new_str=str[::-1]\n",
    "print(new_str)\n",
    "     \n"
   ]
  },
  {
   "cell_type": "code",
   "execution_count": null,
   "id": "a83f3243-f75a-468f-bab1-61c86ff1b284",
   "metadata": {},
   "outputs": [],
   "source": []
  }
 ],
 "metadata": {
  "kernelspec": {
   "display_name": "Python 3 (ipykernel)",
   "language": "python",
   "name": "python3"
  },
  "language_info": {
   "codemirror_mode": {
    "name": "ipython",
    "version": 3
   },
   "file_extension": ".py",
   "mimetype": "text/x-python",
   "name": "python",
   "nbconvert_exporter": "python",
   "pygments_lexer": "ipython3",
   "version": "3.12.3"
  }
 },
 "nbformat": 4,
 "nbformat_minor": 5
}
