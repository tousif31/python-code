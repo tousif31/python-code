{
 "cells": [
  {
   "cell_type": "code",
   "execution_count": 13,
   "id": "c71ce978-b405-4757-96bb-439528e0b1e6",
   "metadata": {},
   "outputs": [
    {
     "name": "stdout",
     "output_type": "stream",
     "text": [
      "no variable\n"
     ]
    },
    {
     "ename": "AttributeError",
     "evalue": "'laptop' object has no attribute 'a'",
     "output_type": "error",
     "traceback": [
      "\u001b[1;31m---------------------------------------------------------------------------\u001b[0m",
      "\u001b[1;31mAttributeError\u001b[0m                            Traceback (most recent call last)",
      "Cell \u001b[1;32mIn[13], line 13\u001b[0m\n\u001b[0;32m     10\u001b[0m hp \u001b[38;5;241m=\u001b[39m laptop()\n\u001b[0;32m     11\u001b[0m dell \u001b[38;5;241m=\u001b[39m laptop()\n\u001b[1;32m---> 13\u001b[0m \u001b[38;5;28mprint\u001b[39m(\u001b[43mhp\u001b[49m\u001b[38;5;241;43m.\u001b[39;49m\u001b[43ma\u001b[49m)\n\u001b[0;32m     14\u001b[0m hp\u001b[38;5;241m.\u001b[39ma\u001b[38;5;241m=\u001b[39mhp\u001b[38;5;241m.\u001b[39ma\u001b[38;5;241m+\u001b[39m\u001b[38;5;241m1\u001b[39m\n\u001b[0;32m     15\u001b[0m \u001b[38;5;28mprint\u001b[39m(dell\u001b[38;5;241m.\u001b[39ma)\n",
      "\u001b[1;31mAttributeError\u001b[0m: 'laptop' object has no attribute 'a'"
     ]
    }
   ],
   "source": [
    "class laptop:\n",
    "    try:\n",
    "        a=processor\n",
    "        def config(self):\n",
    "            print(\"this laptop havee is 8gm ram 1tb ssd\")\n",
    "        def __init__():\n",
    "            pass\n",
    "    except NameError:\n",
    "        print(\"no variable\")\n",
    "hp = laptop()\n",
    "dell = laptop()\n",
    "\n",
    "print(hp.a)\n",
    "hp.a=hp.a+1\n",
    "print(dell.a)"
   ]
  },
  {
   "cell_type": "code",
   "execution_count": 20,
   "id": "df2e71f4-5e39-473f-880b-9aba98191b3b",
   "metadata": {},
   "outputs": [
    {
     "name": "stdout",
     "output_type": "stream",
     "text": [
      "configuration of the laptop is :\n",
      "processor i5\n",
      "ram 8\n",
      "storage 512\n"
     ]
    }
   ],
   "source": [
    "class laptop:\n",
    "    def __init__(self,p,r,s):\n",
    "        self.processor=p\n",
    "        self.ram=r\n",
    "        self.storage=s\n",
    "    def config(self):\n",
    "        print(\"configuration of the laptop is :\")\n",
    "        print(\"processor\",self.processor)\n",
    "        print(\"ram\",self.ram)\n",
    "        print(\"storage\",self.storage)\n",
    "        \n",
    "if __name__==\"__main__\":\n",
    "    hp = laptop(\"i5\",8,512)\n",
    "    hp.config()\n",
    "    "
   ]
  },
  {
   "cell_type": "code",
   "execution_count": 28,
   "id": "d6ee9adf-dbc7-4c86-bb4a-19aededaee84",
   "metadata": {},
   "outputs": [
    {
     "name": "stdout",
     "output_type": "stream",
     "text": [
      "student marks 5 subject is :\n",
      "english max mark: 100\n",
      "kannada max mark: 100\n",
      "maths max mark: 100\n",
      "science max mark: 100\n",
      "socialscience max mark: 100\n",
      "avg of subject: 100.0\n"
     ]
    }
   ],
   "source": [
    "class student:\n",
    "    def __init__(self,e,k,m,s,ss):\n",
    "        self.english=e\n",
    "        self.kannada=k\n",
    "        self.maths=m\n",
    "        self.science=s\n",
    "        self.socialscience=ss\n",
    "    def config(self):\n",
    "        print(\"student marks 5 subject is :\")\n",
    "        print(\"english max mark:\",self.english)\n",
    "        print(\"kannada max mark:\",self.kannada)\n",
    "        print(\"maths max mark:\",self.maths)\n",
    "        print(\"science max mark:\",self.science)\n",
    "        print(\"socialscience max mark:\",self.socialscience)\n",
    "\n",
    "    def avg(self):\n",
    "        f=(self.english+self.kannada+self.maths+self.science+self.socialscience)/5\n",
    "        print(\"avg of subject:\",f)\n",
    "        \n",
    "\n",
    "if __name__==\"__main__\":\n",
    "    hp = student(100,100,100,100,100)\n",
    "    hp.config()\n",
    "    hp.avg()\n",
    "    "
   ]
  },
  {
   "cell_type": "code",
   "execution_count": 1,
   "id": "0a5540fa-3d37-4e46-9a50-573237b48d47",
   "metadata": {},
   "outputs": [
    {
     "name": "stdout",
     "output_type": "stream",
     "text": [
      "1\n",
      "2\n",
      "3\n",
      "public variable: 1\n"
     ]
    }
   ],
   "source": [
    "class demo:\n",
    "    def __init__(self,a,b,c):\n",
    "        self.x=a\n",
    "        self._y=b\n",
    "        self.__z=c\n",
    "\n",
    "    def output_z(self):\n",
    "        print(self.__z)\n",
    "        \n",
    "    def output_x(self):\n",
    "        print(self.x)\n",
    "        \n",
    "    def output_y(self):\n",
    "        print(self._y)\n",
    "\n",
    "ob1=demo(1,2,3)\n",
    "ob1.output_x()\n",
    "ob1.output_y()\n",
    "ob1.output_z()\n",
    "\n",
    "print(\"public variable:\",ob1.x)\n"
   ]
  },
  {
   "cell_type": "code",
   "execution_count": 6,
   "id": "121de823-49c3-427e-ad35-0d78478054a4",
   "metadata": {},
   "outputs": [
    {
     "name": "stdout",
     "output_type": "stream",
     "text": [
      "this is fun1\n",
      "this is fun2\n",
      "this is fun3\n",
      "this is fun4\n",
      "this is fun1\n"
     ]
    }
   ],
   "source": [
    "class a:\n",
    "    def fun1(self):\n",
    "        print(\"this is fun1\")\n",
    "    def fun2(self):\n",
    "        print(\"this is fun2\")\n",
    "\n",
    "class b:\n",
    "    def fun3(self):\n",
    "        print(\"this is fun3\")\n",
    "    def fun4(self):\n",
    "        print(\"this is fun4\")\n",
    "\n",
    "class c(b,a):\n",
    "    def fun5(self):\n",
    "        print(\"this is fun5\")\n",
    "    def fun6(self):\n",
    "        print(\"this is fun6\")\n",
    "\n",
    "\n",
    "if __name__==\"__main__\":\n",
    "    ob1=a()\n",
    "    ob2=b()\n",
    "    ob3=c()\n",
    "\n",
    "    ob1.fun1()\n",
    "    ob1.fun2()\n",
    "    ob2.fun3()\n",
    "    ob2.fun4()\n",
    "    ob3.fun1()\n",
    "    \n",
    "    "
   ]
  },
  {
   "cell_type": "code",
   "execution_count": 14,
   "id": "383abac1-5984-499a-ba11-2527b69363de",
   "metadata": {},
   "outputs": [
    {
     "name": "stdout",
     "output_type": "stream",
     "text": [
      "constructor of class d\n"
     ]
    }
   ],
   "source": [
    "class a:\n",
    "    def __init__(self):\n",
    "        print(\"constructor of class a\")\n",
    "\n",
    "class b:\n",
    "    def __init__(self):\n",
    "        print(\"constructor of class b\")\n",
    "\n",
    "class c:\n",
    "    def __init__(self):\n",
    "        print(\"constructor of class c\")\n",
    "\n",
    "\n",
    "class d:\n",
    "    def __init__(self):\n",
    "        print(\"constructor of class d\")\n",
    "\n",
    "if __name__==\"__main__\":\n",
    "    ob1=d()"
   ]
  },
  {
   "cell_type": "code",
   "execution_count": 27,
   "id": "f19eb423-5707-4d94-80ad-9600ccd8fb37",
   "metadata": {},
   "outputs": [
    {
     "name": "stdout",
     "output_type": "stream",
     "text": [
      "constructor of class C\n",
      "20 10\n"
     ]
    }
   ],
   "source": [
    "class c:\n",
    "    def __init__(self,a=20,b=10):\n",
    "        print(\"constructor of class C\")\n",
    "        self.x=a\n",
    "        self.y=b\n",
    "        print(self.x,self.y)\n",
    "ob=c()"
   ]
  },
  {
   "cell_type": "code",
   "execution_count": 31,
   "id": "a4325481-e6ea-4cc2-99ba-3d480aa4fce7",
   "metadata": {},
   "outputs": [
    {
     "name": "stdout",
     "output_type": "stream",
     "text": [
      "grapiccard\n"
     ]
    }
   ],
   "source": [
    "class laptop:\n",
    "    def __init__(self):\n",
    "        print(\"processor\")\n",
    "    def __init__(self):\n",
    "        print(\"ram\")\n",
    "    def __init__(self):\n",
    "        print(\"storage\")\n",
    "\n",
    "class profesinallaptop(laptop):\n",
    "    def __init__(self):\n",
    "        print(\"battery\")\n",
    "    def __init__(self):\n",
    "        print(\"backup\")\n",
    "\n",
    "\n",
    "class gaminglaptop(laptop):\n",
    "    def __init__(self):\n",
    "        print(\"grapiccard\")\n",
    "\n",
    "if __name__==\"__main__\":\n",
    "    ob1=gaminglaptop()"
   ]
  },
  {
   "cell_type": "code",
   "execution_count": 35,
   "id": "cf47ea74-45e4-4fff-93a3-8512f23d55fa",
   "metadata": {},
   "outputs": [
    {
     "name": "stdout",
     "output_type": "stream",
     "text": [
      "professional laptop having i5 8gb 512 800mh\n"
     ]
    }
   ],
   "source": [
    "class laptop:\n",
    "    def __init__(self,p,r,s):\n",
    "        self.processor=p\n",
    "        self.ram=r\n",
    "        self.storage=s\n",
    "\n",
    "class prof_lap(laptop):\n",
    "    def __init__(self,bat,p,r,s):\n",
    "        self.battery=bat\n",
    "        super().__init__(p,r,s)\n",
    "\n",
    "class gamig(prof_lap):\n",
    "    def __init__(self,graph,p,r,s):\n",
    "        self.graphic=graph\n",
    "        super().__init__(bat,p,r,s)\n",
    "\n",
    "prof=prof_lap(\"800mh\",\"i5\",\"8gb\",\"512\")\n",
    "\n",
    "print(\"professional laptop having\",\n",
    "     prof.processor,prof.ram,\n",
    "     prof.storage,prof.battery)\n",
    "\n",
    "\n"
   ]
  },
  {
   "cell_type": "code",
   "execution_count": 45,
   "id": "06234ed8-4f8d-48a9-8adf-934963959fe8",
   "metadata": {},
   "outputs": [
    {
     "ename": "TypeError",
     "evalue": "sleeperticket() takes no arguments",
     "output_type": "error",
     "traceback": [
      "\u001b[1;31m---------------------------------------------------------------------------\u001b[0m",
      "\u001b[1;31mTypeError\u001b[0m                                 Traceback (most recent call last)",
      "Cell \u001b[1;32mIn[45], line 38\u001b[0m\n\u001b[0;32m     34\u001b[0m destination\u001b[38;5;241m=\u001b[39m\u001b[38;5;124m'\u001b[39m\u001b[38;5;124mB\u001b[39m\u001b[38;5;124m'\u001b[39m\n\u001b[0;32m     35\u001b[0m distance\u001b[38;5;241m=\u001b[39m\u001b[38;5;241m600\u001b[39m\n\u001b[1;32m---> 38\u001b[0m sleeper_ticket \u001b[38;5;241m=\u001b[39m \u001b[43msleeperticket\u001b[49m\u001b[43m(\u001b[49m\u001b[43msource\u001b[49m\u001b[43m,\u001b[49m\u001b[43m \u001b[49m\u001b[43mdestination\u001b[49m\u001b[43m,\u001b[49m\u001b[43m \u001b[49m\u001b[43mdistance\u001b[49m\u001b[43m)\u001b[49m\n\u001b[0;32m     39\u001b[0m ac_ticket \u001b[38;5;241m=\u001b[39m ACticket(source, destination, distance)\n\u001b[0;32m     40\u001b[0m first_class_ticket \u001b[38;5;241m=\u001b[39m firstclassticket(source, destination, distance)\n",
      "\u001b[1;31mTypeError\u001b[0m: sleeperticket() takes no arguments"
     ]
    }
   ],
   "source": [
    "class ticket:\n",
    "    def __init(self,s,d,dis):\n",
    "        self.source=s\n",
    "        self.destination=d\n",
    "        self.distance=dis\n",
    "        self.charges=50\n",
    "    def calculate_distance(self):\n",
    "        f=self.distance*2\n",
    "        print(f)\n",
    "\n",
    "    def calculate_total_price(self):\n",
    "        z=self.charges+self.calculate_distance()\n",
    "        print(z)\n",
    "\n",
    "class generalticket(ticket):\n",
    "    pass\n",
    "\n",
    "\n",
    "class sleeperticket(ticket):\n",
    "    def calculate_total_price(self):\n",
    "        a=super().calculate_total_price()+self.distance*2\n",
    "        print(a)\n",
    "\n",
    "class ACticket(ticket):\n",
    "    def calculate_total_price(self):\n",
    "        y=super.calculate_total_price()+self.distance*4\n",
    "        print(y)\n",
    "\n",
    "class firstclassticket(ticket):\n",
    "    def calculate_total_price(self):\n",
    "        w=super.calculate_total_price()+self.distance*5\n",
    "\n",
    "source='A'\n",
    "destination='B'\n",
    "distance=600\n",
    "\n",
    "general_ticket = generalticket(source, destination, distance)\n",
    "sleeper_ticket = sleeperticket(source, destination, distance)\n",
    "ac_ticket = ACticket(source, destination, distance)\n",
    "first_class_ticket = firstclassticket(source, destination, distance)\n",
    "\n",
    "\n",
    "print(\"General Ticket Price: Rs.\", general_ticket.calculate_total_price())\n",
    "print(\"Sleeper Ticket Price: Rs.\", sleeper_ticket.calculate_total_price())\n",
    "print(\"AC Ticket Price: Rs.\", ac_ticket.calculate_total_price())\n",
    "print(\"First Class Ticket Price: Rs.\", first_class_ticket.calculate_total_price())"
   ]
  },
  {
   "cell_type": "code",
   "execution_count": 39,
   "id": "4fae4409-3a03-4835-8e32-331791f8bafa",
   "metadata": {},
   "outputs": [
    {
     "name": "stdout",
     "output_type": "stream",
     "text": [
      "Ticket booked Fare Price will be:  6550\n"
     ]
    }
   ],
   "source": [
    "class ticket:\n",
    "   \n",
    "    def __init__(self,D):\n",
    "        self.distance = int(D)\n",
    "        self.farePrice = None\n",
    "\n",
    "class gen(ticket):\n",
    "    def __init__(self,D):\n",
    "        super().__init__(D)\n",
    "    def print_ticket(self):\n",
    "        self.farePrice=50+(self.distance*2)\n",
    "        return self.farePrice\n",
    "        \n",
    "\n",
    "\n",
    "class slp(gen):\n",
    "    def __init__(self,D):\n",
    "        super().__init__(D)\n",
    "\n",
    "    def print_ticket(self):\n",
    "        self.farePrice=super().print_ticket()+(2*self.distance)\n",
    "        return self.farePrice\n",
    "\n",
    "class AC(slp):\n",
    "    def __init__(self,D):\n",
    "        super()._+init__(D)\n",
    "    def print_ticket(self):\n",
    "        self.farePrice=super().print_ticket()+(4*self.distance)\n",
    "        return self.farePrice\n",
    "\n",
    "class FC(AC):\n",
    "    def __init__(self,D):\n",
    "        super().__init__(D)\n",
    "    def print_ticket(self):\n",
    "        self.farePrice=super().print_ticket()+(5*self.distance)\n",
    "        return self.farePrice\n",
    "\n",
    "\n",
    "jur = FC(500)\n",
    "print(\"Ticket booked Fare Price will be: \",jur.print_ticket())"
   ]
  },
  {
   "cell_type": "code",
   "execution_count": null,
   "id": "fa2b0ac4-5293-4852-8e2e-3c3e36c649fc",
   "metadata": {},
   "outputs": [],
   "source": []
  }
 ],
 "metadata": {
  "kernelspec": {
   "display_name": "Python 3 (ipykernel)",
   "language": "python",
   "name": "python3"
  },
  "language_info": {
   "codemirror_mode": {
    "name": "ipython",
    "version": 3
   },
   "file_extension": ".py",
   "mimetype": "text/x-python",
   "name": "python",
   "nbconvert_exporter": "python",
   "pygments_lexer": "ipython3",
   "version": "3.12.3"
  }
 },
 "nbformat": 4,
 "nbformat_minor": 5
}
