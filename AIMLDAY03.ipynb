{
 "cells": [
  {
   "cell_type": "code",
   "execution_count": 7,
   "id": "ee112509-afea-4570-9e4c-636668667cf2",
   "metadata": {},
   "outputs": [
    {
     "ename": "TypeError",
     "evalue": "'int' object is not subscriptable",
     "output_type": "error",
     "traceback": [
      "\u001b[1;31m---------------------------------------------------------------------------\u001b[0m",
      "\u001b[1;31mTypeError\u001b[0m                                 Traceback (most recent call last)",
      "Cell \u001b[1;32mIn[7], line 3\u001b[0m\n\u001b[0;32m      1\u001b[0m a\u001b[38;5;241m=\u001b[39m[\u001b[38;5;241m1\u001b[39m,\u001b[38;5;241m2\u001b[39m,\u001b[38;5;241m3\u001b[39m,\u001b[38;5;241m4\u001b[39m,\u001b[38;5;241m5.6\u001b[39m]\n\u001b[0;32m      2\u001b[0m \u001b[38;5;28;01mfor\u001b[39;00m a \u001b[38;5;129;01min\u001b[39;00m \u001b[38;5;28mrange\u001b[39m(\u001b[38;5;241m0\u001b[39m,\u001b[38;5;241m5\u001b[39m):\n\u001b[1;32m----> 3\u001b[0m     \u001b[38;5;28mprint\u001b[39m(\u001b[43ma\u001b[49m\u001b[43m[\u001b[49m\u001b[43mx\u001b[49m\u001b[43m]\u001b[49m)\n",
      "\u001b[1;31mTypeError\u001b[0m: 'int' object is not subscriptable"
     ]
    }
   ],
   "source": [
    "a=[1,2,3,4,5.6]\n",
    "for a in range(0,5):\n",
    "    print(a[x])"
   ]
  },
  {
   "cell_type": "code",
   "execution_count": 8,
   "id": "a82dfdd3-4b0c-4427-8867-5deab7b52c8a",
   "metadata": {},
   "outputs": [
    {
     "name": "stdout",
     "output_type": "stream",
     "text": [
      "1\n",
      "2\n",
      "3\n",
      "6.7\n",
      "7\n"
     ]
    }
   ],
   "source": [
    "x=[1,2,3,6.7,7]\n",
    "for a in range(0,5):\n",
    "    print(x[a])"
   ]
  },
  {
   "cell_type": "code",
   "execution_count": 25,
   "id": "fda8f64c-0ad4-4a51-b24f-6952c48df942",
   "metadata": {},
   "outputs": [
    {
     "name": "stdout",
     "output_type": "stream",
     "text": [
      "[1, 2, 3, 4, 5]\n",
      "4\n",
      "[1, 2, 3, 5]\n",
      "[1, 2, 3, 5, 7, 10, 3, 8, 3]\n",
      "3\n",
      "3\n",
      "[1, 2, 3, 5, 7, 9, 10, 3, 8, 3]\n",
      "[1, 2, 5, 7, 9, 10, 3, 8, 3]\n",
      "[1, 2, 3, 3, 5, 7, 8, 9, 10]\n",
      "[10, 9, 8, 7, 5, 3, 3, 2, 1]\n",
      "9\n"
     ]
    }
   ],
   "source": [
    "a=[1,2,3,4,5]\n",
    "b=a.copy()\n",
    "print(b)\n",
    "c=b.pop(3)\n",
    "print(c)\n",
    "print(b)\n",
    "b.append(7)\n",
    "b.append(10)\n",
    "b.append(3)\n",
    "b.append(8)\n",
    "b.append(3)\n",
    "print(b)\n",
    "print(b.index(5))\n",
    "print(b.count(3))\n",
    "b.insert(5,9)\n",
    "print(b)\n",
    "b.remove(3)\n",
    "print(b)\n",
    "b.sort()\n",
    "print(b)\n",
    "b.sort(reverse=True)\n",
    "print(b)\n",
    "print(len(b))"
   ]
  },
  {
   "cell_type": "code",
   "execution_count": 26,
   "id": "fd9ce172-9bc0-4fa5-9ec3-1f21db0293cc",
   "metadata": {},
   "outputs": [
    {
     "name": "stdout",
     "output_type": "stream",
     "text": [
      "[10, 9, 7, 63, 5, 3, 3, 2, 1, 11, 2, 3, 42, 54, 1, 2, 36, 4, 5]\n",
      "[10, 9, 7, 63, 5, 3, 3, 2, 1, 11, 2, 3, 42, 54, 1, 2, 36, 4, 5]\n",
      "[10, 9, 7, 63, 5, 3, 3, 2, 1, 11, 2, 3, 42, 54, 1, 2, 36, 4, 5]\n",
      "[10, 9, 7, 63, 5, 3, 3, 2, 1, 11, 2, 3, 42, 54, 1, 2, 36, 4, 5]\n",
      "[10, 9, 7, 63, 5, 3, 3, 2, 1, 11, 2, 3, 42, 54, 1, 2, 36, 4, 5]\n",
      "[10, 9, 7, 63, 5, 3, 3, 2, 1, 11, 2, 3, 42, 54, 1, 2, 36, 4, 5]\n",
      "[10, 9, 7, 63, 5, 3, 3, 2, 1, 11, 2, 3, 42, 54, 1, 2, 36, 4, 5]\n",
      "[10, 9, 7, 63, 5, 3, 3, 2, 1, 11, 2, 3, 42, 54, 1, 2, 36, 4, 5]\n",
      "[10, 9, 7, 63, 5, 3, 3, 2, 1, 11, 2, 3, 42, 54, 1, 2, 36, 4, 5]\n",
      "[10, 9, 7, 63, 5, 3, 3, 2, 1, 11, 2, 3, 42, 54, 1, 2, 36, 4, 5]\n",
      "[10, 9, 7, 63, 5, 3, 3, 2, 1, 11, 2, 3, 42, 54, 1, 2, 36, 4, 5]\n",
      "[10, 9, 7, 63, 5, 3, 3, 2, 1, 11, 2, 3, 42, 54, 1, 2, 36, 4, 5]\n",
      "[10, 9, 7, 63, 5, 3, 3, 2, 1, 11, 2, 3, 42, 54, 1, 2, 36, 4, 5]\n",
      "[10, 9, 7, 63, 5, 3, 3, 2, 1, 11, 2, 3, 42, 54, 1, 2, 36, 4, 5]\n",
      "[10, 9, 7, 63, 5, 3, 3, 2, 1, 11, 2, 3, 42, 54, 1, 2, 36, 4, 5]\n",
      "[10, 9, 7, 63, 5, 3, 3, 2, 1, 11, 2, 3, 42, 54, 1, 2, 36, 4, 5]\n",
      "[10, 9, 7, 63, 5, 3, 3, 2, 1, 11, 2, 3, 42, 54, 1, 2, 36, 4, 5]\n",
      "[10, 9, 7, 63, 5, 3, 3, 2, 1, 11, 2, 3, 42, 54, 1, 2, 36, 4, 5]\n",
      "[10, 9, 7, 63, 5, 3, 3, 2, 1, 11, 2, 3, 42, 54, 1, 2, 36, 4, 5]\n"
     ]
    }
   ],
   "source": [
    "a=[10,9,7,63,5,3,3,2,1,11,2,3,42,54,1,2,36,4,5]\n",
    "for x in a:\n",
    "    print(a)"
   ]
  },
  {
   "cell_type": "code",
   "execution_count": 27,
   "id": "81c8fb5c-ca4f-4cb2-b7dc-f33e0664b61b",
   "metadata": {},
   "outputs": [
    {
     "name": "stdout",
     "output_type": "stream",
     "text": [
      "10\n",
      "9\n",
      "7\n",
      "63\n",
      "5\n",
      "3\n",
      "3\n",
      "2\n",
      "1\n",
      "11\n",
      "2\n",
      "3\n",
      "42\n",
      "54\n",
      "1\n",
      "2\n",
      "36\n",
      "4\n",
      "5\n"
     ]
    }
   ],
   "source": [
    "a=[10,9,7,63,5,3,3,2,1,11,2,3,42,54,1,2,36,4,5]\n",
    "for x in a:\n",
    "    print(x)"
   ]
  },
  {
   "cell_type": "code",
   "execution_count": 29,
   "id": "66597044-3aa8-4c48-9c17-8e6c55f86706",
   "metadata": {},
   "outputs": [
    {
     "name": "stdin",
     "output_type": "stream",
     "text": [
      "Enter the element of the list: 1 2 3 4 5 6\n"
     ]
    },
    {
     "name": "stdout",
     "output_type": "stream",
     "text": [
      "['1', '2', '3', '4', '5', '6']\n"
     ]
    }
   ],
   "source": [
    "l=[item for item in(input(\"Enter the element of the list:\").split())]\n",
    "print(l)"
   ]
  },
  {
   "cell_type": "code",
   "execution_count": 30,
   "id": "83740bf4-3803-4f82-9740-90fc0f47aa90",
   "metadata": {},
   "outputs": [
    {
     "name": "stdin",
     "output_type": "stream",
     "text": [
      "Enter the element of the list: 1 2 3 45 5 6 7 \n"
     ]
    },
    {
     "name": "stdout",
     "output_type": "stream",
     "text": [
      "[1, 2, 3, 45, 5, 6, 7]\n"
     ]
    }
   ],
   "source": [
    "l=[int (item) for item in(input(\"Enter the element of the list:\").split())]\n",
    "print(l)"
   ]
  },
  {
   "cell_type": "code",
   "execution_count": 64,
   "id": "2585cf17-ee16-442a-ae85-e21acc858d4a",
   "metadata": {},
   "outputs": [
    {
     "name": "stdin",
     "output_type": "stream",
     "text": [
      "Enter the size of list: 5\n",
      " 1\n",
      " 2\n",
      " 3\n",
      " 4\n",
      " 5\n"
     ]
    },
    {
     "name": "stdout",
     "output_type": "stream",
     "text": [
      "['1', '2', '3', '4', '5']\n"
     ]
    }
   ],
   "source": [
    "n=int(input(\"Enter the size of list:\"))\n",
    "a=[]\n",
    "for x in range(0,n):\n",
    "    x=input()\n",
    "    a.append(x)\n",
    "print(a)"
   ]
  },
  {
   "cell_type": "code",
   "execution_count": 34,
   "id": "12097705-3017-4a86-b3ba-1db5203bbfe4",
   "metadata": {},
   "outputs": [
    {
     "name": "stdout",
     "output_type": "stream",
     "text": [
      "[1, 2, 3, 4, 5]\n"
     ]
    }
   ],
   "source": [
    "a=list([1,2,3,4,5])\n",
    "print(a)"
   ]
  },
  {
   "cell_type": "code",
   "execution_count": 33,
   "id": "6c19911e-30b8-4536-a049-118938e74e6b",
   "metadata": {},
   "outputs": [
    {
     "data": {
      "text/plain": [
       "tuple"
      ]
     },
     "execution_count": 33,
     "metadata": {},
     "output_type": "execute_result"
    }
   ],
   "source": [
    "tuple\n"
   ]
  },
  {
   "cell_type": "code",
   "execution_count": 48,
   "id": "985157e0-c247-4201-9cda-d4135ec23b05",
   "metadata": {},
   "outputs": [
    {
     "name": "stdout",
     "output_type": "stream",
     "text": [
      "9\n",
      "8\n",
      "7\n",
      "6\n",
      "5\n",
      "4\n",
      "3\n",
      "2\n",
      "1\n"
     ]
    }
   ],
   "source": [
    "a=(1,2,3,4,5,6,7,8,9)\n",
    "for x in range(-1,-1*(len(a)+1),-1):\n",
    "    print(a[x])"
   ]
  },
  {
   "cell_type": "code",
   "execution_count": 49,
   "id": "ed2155f9-06e7-4dc5-a67d-e236961e2bbf",
   "metadata": {},
   "outputs": [
    {
     "name": "stdout",
     "output_type": "stream",
     "text": [
      "9\n",
      "8\n",
      "7\n",
      "6\n",
      "5\n",
      "4\n",
      "3\n",
      "2\n",
      "1\n"
     ]
    }
   ],
   "source": [
    "a=(1,2,3,4,5,6,7,8,9)\n",
    "for x in range(0,len(a)):\n",
    "    print(a[-1*(x+1)])"
   ]
  },
  {
   "cell_type": "code",
   "execution_count": 54,
   "id": "8fca0e18-d410-47c5-9063-2cb85150f6ea",
   "metadata": {},
   "outputs": [
    {
     "name": "stdout",
     "output_type": "stream",
     "text": [
      "5\n"
     ]
    }
   ],
   "source": [
    "a=(1,2,3,4,5)\n",
    "b=a[-1]\n",
    "print(b)"
   ]
  },
  {
   "cell_type": "code",
   "execution_count": null,
   "id": "8d721c9b-b25b-41f0-adab-1af156d44f5f",
   "metadata": {},
   "outputs": [],
   "source": [
    "Dictionary\n",
    "\n",
    "key and values"
   ]
  },
  {
   "cell_type": "code",
   "execution_count": 63,
   "id": "c79fe57a-b96c-4481-9a72-218d03f6383e",
   "metadata": {},
   "outputs": [
    {
     "name": "stdout",
     "output_type": "stream",
     "text": [
      "{1: 'Raj', 2: 'vardha', 3: 'rahul', 4: 'tousif'}\n",
      "vardha\n",
      "dict_keys([1, 2, 3, 4])\n",
      "dict_values(['Raj', 'vardha', 'rahul', 'tousif'])\n",
      "dict_items([(1, 'Raj'), (2, 'vardha'), (3, 'rahul'), (4, 'tousif')])\n",
      "None\n"
     ]
    }
   ],
   "source": [
    "D={1:\"Raj\",2:\"vardha\",3:\"rahul\",4:\"tousif\"}\n",
    "print(D)\n",
    "print(D[2])\n",
    "print(D.keys())\n",
    "print(D.values())\n",
    "print(D.items())\n",
    "print(D.get(5))"
   ]
  },
  {
   "cell_type": "code",
   "execution_count": 65,
   "id": "2bc2c1fb-7eb7-48e4-a296-89084a5820ff",
   "metadata": {},
   "outputs": [
    {
     "name": "stdin",
     "output_type": "stream",
     "text": [
      "Enter key:  1\n",
      "Enter value:  touif\n"
     ]
    },
    {
     "name": "stdout",
     "output_type": "stream",
     "text": [
      "Key added successfully to the dictionary.\n",
      "Updated dictionary: {'1': 'touif'}\n"
     ]
    }
   ],
   "source": [
    "\n",
    "my_dict = {}\n",
    "\n",
    "\n",
    "key = input(\"Enter key: \")\n",
    "value = input(\"Enter value: \")\n",
    "\n",
    "if key in my_dict:\n",
    "    print(\"Key already exists. Corresponding value:\", my_dict[key])\n",
    "else:\n",
    "    \n",
    "    my_dict[key] = value\n",
    "    print(\"Key added successfully to the dictionary.\")\n",
    "\n",
    "print(\"Updated dictionary:\", my_dict)\n"
   ]
  },
  {
   "cell_type": "code",
   "execution_count": 66,
   "id": "711b12e8-3eb5-4f84-93a8-a97836b18743",
   "metadata": {},
   "outputs": [
    {
     "name": "stdin",
     "output_type": "stream",
     "text": [
      "Enter keys: 1\n"
     ]
    },
    {
     "name": "stdout",
     "output_type": "stream",
     "text": [
      "Already key Present\n",
      "Value preesent at key:1 is Apple\n",
      "{1: 'Apple'}\n"
     ]
    }
   ],
   "source": [
    "D={1:\"Apple\"}\n",
    "L=[int(key) for key in (input(\"Enter keys:\").split())]\n",
    "for i in L:\n",
    "    if i in D:\n",
    "        print(\"Already key Present\")\n",
    "        print(f\"Value preesent at key:{i} is {D[i]}\")\n",
    "    else:\n",
    "        D[i]=input(f\"Enter value for key:{i} : \")\n",
    "\n",
    "print(D)"
   ]
  },
  {
   "cell_type": "code",
   "execution_count": 1,
   "id": "fbf9e5e5-46c1-4972-9e95-12ef6cb8793d",
   "metadata": {},
   "outputs": [
    {
     "name": "stdin",
     "output_type": "stream",
     "text": [
      " 5\n",
      " 5\n"
     ]
    },
    {
     "name": "stdout",
     "output_type": "stream",
     "text": [
      "Division Successfull\n",
      "1.0\n",
      "Error handelled\n",
      "we have recived the result as: 1.0\n"
     ]
    }
   ],
   "source": [
    "A=int(input())\n",
    "B=int(input())\n",
    "try:\n",
    "    c=A/B\n",
    "except:\n",
    "    print(\"we can\\t\")\n",
    "    c=0\n",
    "else:\n",
    "    print(\"Division Successfull\")\n",
    "    print(c)\n",
    "\n",
    "finally:\n",
    "    print(\"Error handelled\")\n",
    "print(\"we have recived the result as:\",c)"
   ]
  },
  {
   "cell_type": "code",
   "execution_count": 12,
   "id": "38086661-42e4-4688-a58d-407127d4483b",
   "metadata": {},
   "outputs": [
    {
     "name": "stdout",
     "output_type": "stream",
     "text": [
      "10\n"
     ]
    }
   ],
   "source": [
    "a= [1, 2, 3, 4, 5, 6, 7, 8, 9, 10]\n",
    "try:\n",
    "    print(a[10])\n",
    "except:\n",
    "    print(\"Index out of range. The list doesn't have 11 elements.\")\n",
    "    print(a)\n"
   ]
  },
  {
   "cell_type": "code",
   "execution_count": 14,
   "id": "2843e2d9-dbb3-44b7-bb67-519ce8f5987c",
   "metadata": {},
   "outputs": [
    {
     "name": "stdin",
     "output_type": "stream",
     "text": [
      "Enter the index 1\n"
     ]
    },
    {
     "name": "stdout",
     "output_type": "stream",
     "text": [
      "2\n"
     ]
    }
   ],
   "source": [
    "a=[1,2,3,4,5,6,7,8,9]\n",
    "i=int(input(\"Enter the index\"))\n",
    "try:\n",
    "    print(a[i])\n",
    "except:\n",
    "    print(\"there no sach index\")"
   ]
  },
  {
   "cell_type": "code",
   "execution_count": 18,
   "id": "0b6dc99f-5f95-4dc2-8236-c285d689e6c6",
   "metadata": {},
   "outputs": [
    {
     "name": "stdin",
     "output_type": "stream",
     "text": [
      " 2\n",
      " 434\n"
     ]
    },
    {
     "name": "stdout",
     "output_type": "stream",
     "text": [
      "some unknown Error found\n",
      "Code Execution done\n",
      "0.004608294930875576\n"
     ]
    }
   ],
   "source": [
    "try:\n",
    "    a=input()\n",
    "    b=input()\n",
    "    c=int(a)/int(b)\n",
    "    x=\"hello\"/3\\\n",
    "    \n",
    "except ValueError:\n",
    "    print(\"Data Type Issue\")\n",
    "except ZeroDivisionError:\n",
    "    print(\"Can't devide by Zero\")\n",
    "except:\n",
    "    print(\"some unknown Error found\")\n",
    "else:\n",
    "    print(\"No Error\")\n",
    "finally:\n",
    "    print(\"Code Execution done\")\n",
    "    print(c)"
   ]
  },
  {
   "cell_type": "code",
   "execution_count": 19,
   "id": "59160f51-f1ff-4ef1-a2bc-a54066b49168",
   "metadata": {},
   "outputs": [
    {
     "name": "stdout",
     "output_type": "stream",
     "text": [
      "Ignoring non-numeric value: six\n",
      "Sum of all elements in the list: 22.5\n"
     ]
    }
   ],
   "source": [
    "def calculate_sum(my_list):\n",
    "    total = 0\n",
    "    for element in my_list:\n",
    "        try:\n",
    "            total += float(element)  # Convert element to float and add to total\n",
    "        except ValueError:\n",
    "            print(f\"Ignoring non-numeric value: {element}\")\n",
    "    return total\n",
    "\n",
    "# Example usage:\n",
    "my_list = [1, 2, 3, '4', 5, 'six', 7.5]\n",
    "total_sum = calculate_sum(my_list)\n",
    "print(\"Sum of all elements in the list:\", total_sum)\n",
    "\n"
   ]
  },
  {
   "cell_type": "code",
   "execution_count": 21,
   "id": "9feba145-b3e6-4242-a726-e5128686dd26",
   "metadata": {},
   "outputs": [
    {
     "name": "stdout",
     "output_type": "stream",
     "text": [
      "cannot add strings\n",
      "cannot add strings\n",
      "25\n"
     ]
    }
   ],
   "source": [
    "a=[1,2,'Three',4,5,6,7,'Eight']\n",
    "s=0\n",
    "\n",
    "for i in a:\n",
    "    try:\n",
    "        s+=i\n",
    "    except:\n",
    "        print('cannot add strings')\n",
    "        next\n",
    "print(s)"
   ]
  },
  {
   "cell_type": "code",
   "execution_count": null,
   "id": "59105755-0e1a-4544-8209-5469c37755d9",
   "metadata": {},
   "outputs": [],
   "source": []
  }
 ],
 "metadata": {
  "kernelspec": {
   "display_name": "Python 3 (ipykernel)",
   "language": "python",
   "name": "python3"
  },
  "language_info": {
   "codemirror_mode": {
    "name": "ipython",
    "version": 3
   },
   "file_extension": ".py",
   "mimetype": "text/x-python",
   "name": "python",
   "nbconvert_exporter": "python",
   "pygments_lexer": "ipython3",
   "version": "3.12.3"
  }
 },
 "nbformat": 4,
 "nbformat_minor": 5
}
