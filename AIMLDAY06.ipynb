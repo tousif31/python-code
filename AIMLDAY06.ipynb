{
 "cells": [
  {
   "cell_type": "code",
   "execution_count": 14,
   "id": "813b088e-4b66-4577-9c9d-5f5f8a72ad5f",
   "metadata": {},
   "outputs": [
    {
     "name": "stdout",
     "output_type": "stream",
     "text": [
      "4 stroke\n",
      "KA34-0987\n",
      "80000\n",
      "matte-black\n",
      "tata punch\n",
      "4\n",
      "200\n"
     ]
    }
   ],
   "source": [
    "class Vehicle:\n",
    "    def __init__(self, e, r, p, c):\n",
    "        self.engine = e\n",
    "        self.regplate = r\n",
    "        self.price = p\n",
    "        self.colour = c\n",
    "\n",
    "class Car(Vehicle):\n",
    "    def __init__(self, t, n, m, e, r, p, c):\n",
    "        super().__init__(e, r, p, c)\n",
    "        self.type = t\n",
    "        self.noofpassanger = n\n",
    "        self.maxspeed = m\n",
    "\n",
    "class Truck(Vehicle):\n",
    "    def __init__(self, no, l, e, r, p, c):\n",
    "        super().__init__(e, r, p, c)\n",
    "        self.numberofaxle = no\n",
    "        self.loadcapacity = l\n",
    "\n",
    "if __name__ == \"__main__\":\n",
    "    access = Car(\"tata punch\", 4, 200, \"4 stroke\", \"KA34-0987\", 80000, \"matte-black\")\n",
    "    print(access.engine)\n",
    "    print(access.regplate)\n",
    "    print(access.price)\n",
    "    print(access.colour)\n",
    "    print(access.type)\n",
    "    print(access.noofpassanger)\n",
    "    print(access.maxspeed)"
   ]
  },
  {
   "cell_type": "code",
   "execution_count": 17,
   "id": "edc5b906-1116-4b4b-a0be-2b1d691ae86b",
   "metadata": {},
   "outputs": [
    {
     "name": "stdout",
     "output_type": "stream",
     "text": [
      "tech-savy\n",
      "abhi\n",
      "2019223489\n",
      "rinku\n",
      "50000\n"
     ]
    }
   ],
   "source": [
    "class employee:\n",
    "    def __init__(self, e, en, es):\n",
    "        self.eid= e\n",
    "        self.ename = en\n",
    "        self.esalary = es\n",
    "        \n",
    "\n",
    "class staff(employee):\n",
    "    def __init__(self,wt,wa,e,en,es):\n",
    "        super().__init__(e,en,es)\n",
    "        self.worktype = wt\n",
    "        self.workarea = wa\n",
    "        \n",
    "\n",
    "class developer(employee):\n",
    "    def __init__(self,mo,t,ex,e,en,es):\n",
    "        super().__init__(e,en,es)\n",
    "        self.module = mo\n",
    "        self.tech =  t\n",
    "        self.experince=ex\n",
    "class manager(employee):\n",
    "    def __init__(self,pr,cn,e,en,es):\n",
    "        super().__init__(e,en,es)\n",
    "        self.project=pr\n",
    "        self.clientname=cn\n",
    "        \n",
    "\n",
    "if __name__ == \"__main__\":\n",
    "    amigo=manager(\"tech-savy\",\"abhi\",\"2019223489\",\"rinku\",50000)\n",
    "    print(amigo.project)\n",
    "    print(amigo.clientname)\n",
    "    print(amigo.eid)\n",
    "    print(amigo.ename)\n",
    "    print(amigo.esalary)\n",
    "    "
   ]
  },
  {
   "cell_type": "code",
   "execution_count": 23,
   "id": "528616fe-b39a-49f0-8c2f-b57c8ee64d09",
   "metadata": {},
   "outputs": [
    {
     "name": "stdout",
     "output_type": "stream",
     "text": [
      "* \n",
      "* * \n",
      "* * * \n",
      "* * * * \n",
      "* * * * * \n",
      "* * * * * * \n"
     ]
    }
   ],
   "source": [
    "n = 6\n",
    "for i in range(0, n):\n",
    "    for j in range(0, i + 1):\n",
    "        print(\"*\", end=\" \")\n",
    "    print('')"
   ]
  },
  {
   "cell_type": "code",
   "execution_count": 27,
   "id": "7969452a-a8f5-4242-8c62-a86220dc2e67",
   "metadata": {},
   "outputs": [
    {
     "name": "stdout",
     "output_type": "stream",
     "text": [
      "1 0 \n",
      "1 0 1 0 \n",
      "1 0 1 0 1 0 \n",
      "1 0 1 0 1 0 1 0 \n",
      "1 0 1 0 1 0 1 0 1 0 \n",
      "1 0 1 0 1 0 1 0 1 0 1 0 \n"
     ]
    }
   ],
   "source": [
    "n = 6\n",
    "for i in range(0, n):\n",
    "    for j in range(0, i + 1):\n",
    "        print(\"1\",\"0\", end=\" \")\n",
    "    print('')"
   ]
  },
  {
   "cell_type": "code",
   "execution_count": 38,
   "id": "21d1604f-b5c8-4514-bb65-b159644b9027",
   "metadata": {},
   "outputs": [
    {
     "name": "stdout",
     "output_type": "stream",
     "text": [
      "\n",
      "0 \n",
      "1 0 \n",
      "0 1 0 \n",
      "1 0 1 0 \n",
      "0 1 0 1 0 \n"
     ]
    }
   ],
   "source": [
    "n=6\n",
    "for i in range(0,n):\n",
    "    for j in range(0,i):\n",
    "      if (i+j)%2==0:\n",
    "        print(\"1\",end=\" \")\n",
    "      else:\n",
    "         print(\"0\",end=\" \")\n",
    "      \n",
    "    print('')\n",
    "      \n",
    "    \n",
    "    "
   ]
  },
  {
   "cell_type": "code",
   "execution_count": 42,
   "id": "a384b024-8cd2-42e6-bcee-5abebe60f3c7",
   "metadata": {},
   "outputs": [
    {
     "name": "stdout",
     "output_type": "stream",
     "text": [
      "1\n",
      "12\n",
      "123\n",
      "1234\n",
      "12345\n"
     ]
    }
   ],
   "source": [
    "n=5\n",
    "num=1\n",
    "for i in range(0,n):\n",
    "    num=1\n",
    "    for j in range(0,i+1):\n",
    "        print(num,end='')\n",
    "        num=num+1\n",
    "    print('')"
   ]
  },
  {
   "cell_type": "code",
   "execution_count": 45,
   "id": "ba50df73-6c68-4e83-b002-566497147f3b",
   "metadata": {},
   "outputs": [
    {
     "name": "stdout",
     "output_type": "stream",
     "text": [
      "1 \n",
      "2 3 \n",
      "4 5 6 \n",
      "7 8 9 10 \n"
     ]
    }
   ],
   "source": [
    "n=4\n",
    "num=1\n",
    "for i in range(0,n):\n",
    "    for j in range(0,i+1):\n",
    "        print(num,end=' ')\n",
    "        num=num+1\n",
    "    print('')"
   ]
  },
  {
   "cell_type": "code",
   "execution_count": 52,
   "id": "154d2b25-d6d9-4da6-a5ab-5daca03e0150",
   "metadata": {},
   "outputs": [
    {
     "name": "stdout",
     "output_type": "stream",
     "text": [
      "* * * * * \n",
      "*       * \n",
      "*       * \n",
      "*       * \n",
      "* * * * * \n"
     ]
    }
   ],
   "source": [
    "n=5\n",
    "\n",
    "for i in range(0,n):\n",
    "    for j in range(0,n):\n",
    "        if i==0 or j==0 or i==n-1 or j==n-1:\n",
    "            print(\"*\",end=' ')\n",
    "        else:\n",
    "            print(' ',end=' ')\n",
    "    print( )"
   ]
  },
  {
   "cell_type": "code",
   "execution_count": null,
   "id": "680fed0a-a944-469e-9846-870839b46523",
   "metadata": {},
   "outputs": [],
   "source": []
  }
 ],
 "metadata": {
  "kernelspec": {
   "display_name": "Python 3 (ipykernel)",
   "language": "python",
   "name": "python3"
  },
  "language_info": {
   "codemirror_mode": {
    "name": "ipython",
    "version": 3
   },
   "file_extension": ".py",
   "mimetype": "text/x-python",
   "name": "python",
   "nbconvert_exporter": "python",
   "pygments_lexer": "ipython3",
   "version": "3.12.3"
  }
 },
 "nbformat": 4,
 "nbformat_minor": 5
}
