{
 "cells": [
  {
   "cell_type": "code",
   "execution_count": 1,
   "id": "11ea860e-68fe-4704-af91-2aeebcc5bae2",
   "metadata": {},
   "outputs": [
    {
     "name": "stdout",
     "output_type": "stream",
     "text": [
      "Estimated cost: 5.146484375\n"
     ]
    }
   ],
   "source": [
    "def calculate_cloud_usage_costs(usage_details):\n",
    "    total_cost = 0\n",
    "    for resource, usage in usage_details.items():\n",
    "        # Use pricing information to calculate cost for each resource type\n",
    "        # For demonstration purposes, let's assume a flat rate of $0.05 per hour for compute instances\n",
    "        if resource == 'compute':\n",
    "            cost_per_hour = 0.05\n",
    "            total_cost += cost_per_hour * usage['hours']\n",
    "        # Add similar calculations for other resource types (storage, networking, etc.)\n",
    "        elif resource == 'storage':\n",
    "            # Assuming $0.01 per GB per month\n",
    "            cost_per_gb_month = 0.01\n",
    "            total_cost += cost_per_gb_month * (usage['gb'] / 1024) * 30  # Convert GB to TB\n",
    "        # Add calculations for other resources as needed\n",
    "        # elif resource == 'networking':\n",
    "        #     total_cost += ...\n",
    "    \n",
    "    # Additional costs, discounts, taxes, etc. can be factored in here\n",
    "    \n",
    "    return total_cost\n",
    "\n",
    "# Example usage details (replace with actual usage details)\n",
    "usage_details = {\n",
    "    'compute': {'hours': 100},\n",
    "    'storage': {'gb': 500}\n",
    "}\n",
    "\n",
    "estimated_cost = calculate_cloud_usage_costs(usage_details)\n",
    "print(\"Estimated cost:\", estimated_cost)\n"
   ]
  },
  {
   "cell_type": "code",
   "execution_count": 2,
   "id": "1c7e2ce7-7de2-4fec-8d84-e1ecaa89a4fe",
   "metadata": {},
   "outputs": [
    {
     "name": "stdout",
     "output_type": "stream",
     "text": [
      "Usage Details:\n",
      "compute: 100\n",
      "storage: 500\n",
      "Usage Details:\n",
      "compute: 150\n",
      "storage: 500\n",
      "Estimated cost: 7.646484375\n",
      "Usage Details:\n",
      "compute: 150\n"
     ]
    }
   ],
   "source": [
    "class CloudCostEstimator:\n",
    "    def __init__(self):\n",
    "        self.usage_details = {}\n",
    "\n",
    "    def add_usage(self, resource, usage):\n",
    "        self.usage_details[resource] = usage\n",
    "\n",
    "    def update_usage(self, resource, usage):\n",
    "        if resource in self.usage_details:\n",
    "            self.usage_details[resource] = usage\n",
    "        else:\n",
    "            print(\"Resource not found.\")\n",
    "\n",
    "    def delete_usage(self, resource):\n",
    "        if resource in self.usage_details:\n",
    "            del self.usage_details[resource]\n",
    "        else:\n",
    "            print(\"Resource not found.\")\n",
    "\n",
    "    def calculate_cost(self):\n",
    "        total_cost = 0\n",
    "        for resource, usage in self.usage_details.items():\n",
    "            # Perform cost calculation based on usage details\n",
    "            # For simplicity, let's assume a flat rate for each resource type\n",
    "            if resource == 'compute':\n",
    "                cost_per_hour = 0.05\n",
    "                total_cost += cost_per_hour * usage\n",
    "            elif resource == 'storage':\n",
    "                cost_per_gb_month = 0.01\n",
    "                total_cost += cost_per_gb_month * (usage / 1024) * 30  # Convert GB to TB\n",
    "            # Add calculations for other resource types as needed\n",
    "        return total_cost\n",
    "\n",
    "    def display_usage_details(self):\n",
    "        print(\"Usage Details:\")\n",
    "        for resource, usage in self.usage_details.items():\n",
    "            print(f\"{resource}: {usage}\")\n",
    "\n",
    "# Example usage\n",
    "estimator = CloudCostEstimator()\n",
    "\n",
    "# Add usage details\n",
    "estimator.add_usage('compute', 100)  # 100 hours\n",
    "estimator.add_usage('storage', 500)  # 500 GB\n",
    "\n",
    "# Display usage details\n",
    "estimator.display_usage_details()\n",
    "\n",
    "# Update usage details\n",
    "estimator.update_usage('compute', 150)  # Update compute usage to 150 hours\n",
    "estimator.display_usage_details()\n",
    "\n",
    "# Calculate and display estimated cost\n",
    "estimated_cost = estimator.calculate_cost()\n",
    "print(\"Estimated cost:\", estimated_cost)\n",
    "\n",
    "# Delete usage details\n",
    "estimator.delete_usage('storage')\n",
    "estimator.display_usage_details()\n"
   ]
  },
  {
   "cell_type": "code",
   "execution_count": 3,
   "id": "c7f627b0-497b-43a7-a4a6-b927e73b8a7a",
   "metadata": {},
   "outputs": [
    {
     "name": "stdin",
     "output_type": "stream",
     "text": [
      "Enter resource name:  ss\n",
      "Enter usage amount:  23\n"
     ]
    },
    {
     "name": "stdout",
     "output_type": "stream",
     "text": [
      "Usage Details:\n",
      "ss: 23.0\n"
     ]
    },
    {
     "name": "stdin",
     "output_type": "stream",
     "text": [
      "Enter resource name:  r\n",
      "Enter usage amount:  23\n"
     ]
    },
    {
     "name": "stdout",
     "output_type": "stream",
     "text": [
      "Resource not found.\n",
      "Usage Details:\n",
      "ss: 23.0\n",
      "Estimated cost: 0\n"
     ]
    },
    {
     "name": "stdin",
     "output_type": "stream",
     "text": [
      "Enter resource name to delete:  r\n"
     ]
    },
    {
     "name": "stdout",
     "output_type": "stream",
     "text": [
      "Resource not found.\n",
      "Usage Details:\n",
      "ss: 23.0\n"
     ]
    }
   ],
   "source": [
    "class CloudCostEstimator:\n",
    "    def __init__(self):\n",
    "        self.usage_details = {}\n",
    "\n",
    "    def add_usage(self, resource, usage):\n",
    "        self.usage_details[resource] = usage\n",
    "\n",
    "    def update_usage(self, resource, usage):\n",
    "        if resource in self.usage_details:\n",
    "            self.usage_details[resource] = usage\n",
    "        else:\n",
    "            print(\"Resource not found.\")\n",
    "\n",
    "    def delete_usage(self, resource):\n",
    "        if resource in self.usage_details:\n",
    "            del self.usage_details[resource]\n",
    "        else:\n",
    "            print(\"Resource not found.\")\n",
    "\n",
    "    def calculate_cost(self):\n",
    "        total_cost = 0\n",
    "        for resource, usage in self.usage_details.items():\n",
    "            # Perform cost calculation based on usage details\n",
    "            # For simplicity, let's assume a flat rate for each resource type\n",
    "            if resource == 'compute':\n",
    "                cost_per_hour = 0.05\n",
    "                total_cost += cost_per_hour * usage\n",
    "            elif resource == 'storage':\n",
    "                cost_per_gb_month = 0.01\n",
    "                total_cost += cost_per_gb_month * (usage / 1024) * 30  # Convert GB to TB\n",
    "            # Add calculations for other resource types as needed\n",
    "        return total_cost\n",
    "\n",
    "    def display_usage_details(self):\n",
    "        print(\"Usage Details:\")\n",
    "        for resource, usage in self.usage_details.items():\n",
    "            print(f\"{resource}: {usage}\")\n",
    "\n",
    "    def input_usage_details(self):\n",
    "        resource = input(\"Enter resource name: \")\n",
    "        usage = float(input(\"Enter usage amount: \"))\n",
    "        return resource, usage\n",
    "\n",
    "# Example usage\n",
    "estimator = CloudCostEstimator()\n",
    "\n",
    "# Interactive input for adding usage details\n",
    "resource, usage = estimator.input_usage_details()\n",
    "estimator.add_usage(resource, usage)\n",
    "\n",
    "# Display usage details\n",
    "estimator.display_usage_details()\n",
    "\n",
    "# Interactive input for updating usage details\n",
    "resource, usage = estimator.input_usage_details()\n",
    "estimator.update_usage(resource, usage)\n",
    "estimator.display_usage_details()\n",
    "\n",
    "# Calculate and display estimated cost\n",
    "estimated_cost = estimator.calculate_cost()\n",
    "print(\"Estimated cost:\", estimated_cost)\n",
    "\n",
    "# Interactive input for deleting usage details\n",
    "resource = input(\"Enter resource name to delete: \")\n",
    "estimator.delete_usage(resource)\n",
    "estimator.display_usage_details()\n"
   ]
  },
  {
   "cell_type": "code",
   "execution_count": null,
   "id": "1983cccc-bae6-45bf-849b-7e6e9047eb1e",
   "metadata": {},
   "outputs": [],
   "source": []
  }
 ],
 "metadata": {
  "kernelspec": {
   "display_name": "Python 3 (ipykernel)",
   "language": "python",
   "name": "python3"
  },
  "language_info": {
   "codemirror_mode": {
    "name": "ipython",
    "version": 3
   },
   "file_extension": ".py",
   "mimetype": "text/x-python",
   "name": "python",
   "nbconvert_exporter": "python",
   "pygments_lexer": "ipython3",
   "version": "3.12.3"
  }
 },
 "nbformat": 4,
 "nbformat_minor": 5
}
