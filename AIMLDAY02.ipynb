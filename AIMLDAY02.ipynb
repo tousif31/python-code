{
 "cells": [
  {
   "cell_type": "code",
   "execution_count": 5,
   "id": "935352dc-ad41-44c5-903e-f00ecfe72f13",
   "metadata": {},
   "outputs": [
    {
     "name": "stdin",
     "output_type": "stream",
     "text": [
      "Enter your Name: 1\n",
      "Enter your age: 1\n"
     ]
    },
    {
     "name": "stdout",
     "output_type": "stream",
     "text": [
      "1\n",
      "you are not eligible\n"
     ]
    }
   ],
   "source": [
    "Name=input(\"Enter your Name:\")\n",
    "age=int(input(\"Enter your age:\"))\n",
    "\n",
    "if age>=18:\n",
    "    print(Name)\n",
    "    print(\"you are eligible\")\n",
    "else:\n",
    "    print(Name)\n",
    "    print(\"you are not eligible\")\n",
    "    "
   ]
  },
  {
   "cell_type": "code",
   "execution_count": 7,
   "id": "a73438f1-c3bd-4a96-b512-13486c27f9b1",
   "metadata": {},
   "outputs": [
    {
     "name": "stdin",
     "output_type": "stream",
     "text": [
      "Enter the first num1: 18\n",
      "Enter the secound num2: 12\n"
     ]
    },
    {
     "name": "stdout",
     "output_type": "stream",
     "text": [
      "18\n",
      "num1 is greaterthan\n"
     ]
    }
   ],
   "source": [
    "num1=int(input(\"Enter the first num1:\"))\n",
    "num2=int(input(\"Enter the secound num2:\"))\n",
    "\n",
    "if num1>num2:\n",
    "    \n",
    "    print(num1)\n",
    "    print(\"num1 is greaterthan\")\n",
    "else:\n",
    "    print(num2)\n",
    "    print(\"num2 is greaterthan\")\n",
    "    "
   ]
  },
  {
   "cell_type": "code",
   "execution_count": 10,
   "id": "6d3e45de-16ae-4867-879a-17e007000f86",
   "metadata": {},
   "outputs": [
    {
     "name": "stdin",
     "output_type": "stream",
     "text": [
      " 2\n",
      " 3\n",
      " 1\n"
     ]
    },
    {
     "name": "stdout",
     "output_type": "stream",
     "text": [
      "b is largest\n"
     ]
    }
   ],
   "source": [
    "a=int(input())\n",
    "b=int(input())\n",
    "c=int(input())\n",
    "\n",
    "if a>b:\n",
    "    if a>c:\n",
    "        print(\"a is largest\")\n",
    "    else:\n",
    "        print(\"c is largest\")\n",
    "else:\n",
    "    if b>c:\n",
    "        print(\"b is largest\")\n",
    "    else:\n",
    "        print(\"c is largest\")"
   ]
  },
  {
   "cell_type": "code",
   "execution_count": 19,
   "id": "fd77d38e-f72e-4fc1-aa73-5f6a0c144c84",
   "metadata": {},
   "outputs": [
    {
     "name": "stdin",
     "output_type": "stream",
     "text": [
      "Enter your Marks: 35\n"
     ]
    },
    {
     "name": "stdout",
     "output_type": "stream",
     "text": [
      "Grade = E\n"
     ]
    }
   ],
   "source": [
    "marks = int(input(\"Enter your Marks:\"))\n",
    "\n",
    "if marks>=90 and marks<100:\n",
    "    print(\"Grade = A+\")\n",
    "else:\n",
    "    if marks>=80 and marks<90:\n",
    "        print(\"Grade = A\")\n",
    "    else:\n",
    "        if marks>=70 and marks<80:\n",
    "            print(\"Grade = B+\")\n",
    "        else:\n",
    "            if marks>=60 and marks<70:\n",
    "                print(\"Grade = B\")\n",
    "            else:\n",
    "                if marks>=50 and marks<60:\n",
    "                    print(\"Grade = C\")\n",
    "                else:\n",
    "                    if marks>=40 and marks<50:\n",
    "                        print(\"Grade = D\")\n",
    "                    else:\n",
    "                        if marks>=30 and marks<40:\n",
    "                            print(\"Grade = E\")\n",
    "                        else:\n",
    "                            if marks>=0 and marks<30:\n",
    "                                print(\"Grade = F\")\n",
    "                            else:\n",
    "                                print(\"Invalid marks\")\n",
    "                                \n",
    "                            "
   ]
  },
  {
   "cell_type": "code",
   "execution_count": 20,
   "id": "bb5b5405-f0b8-4fe6-8812-c1a4ef4424f7",
   "metadata": {},
   "outputs": [
    {
     "name": "stdout",
     "output_type": "stream",
     "text": [
      "0\n",
      "1\n",
      "2\n",
      "3\n",
      "4\n",
      "5\n",
      "6\n",
      "7\n",
      "8\n",
      "9\n"
     ]
    }
   ],
   "source": [
    "for x in range(0,10):\n",
    "    print(x)\n",
    "    "
   ]
  },
  {
   "cell_type": "code",
   "execution_count": 23,
   "id": "a60798cf-0544-4244-8290-b2afceaecfcd",
   "metadata": {},
   "outputs": [
    {
     "name": "stdin",
     "output_type": "stream",
     "text": [
      " 4\n"
     ]
    },
    {
     "name": "stdout",
     "output_type": "stream",
     "text": [
      "   *\n",
      "  **\n",
      " ***\n",
      "****\n",
      "4\n"
     ]
    }
   ],
   "source": [
    "rows=int(input())\n",
    "for i in range(1, rows + 1):\n",
    "        print(\" \" * (rows - i) + \"*\" * i)\n",
    "\n",
    "\n",
    "print(rows)"
   ]
  },
  {
   "cell_type": "code",
   "execution_count": 24,
   "id": "e7320042-d32b-4c01-bc8c-6ce09f6f3c89",
   "metadata": {},
   "outputs": [
    {
     "name": "stdout",
     "output_type": "stream",
     "text": [
      "0\n",
      "1\n",
      "2\n",
      "3\n",
      "4\n",
      "5\n",
      "6\n",
      "7\n",
      "8\n",
      "9\n",
      "10\n",
      "9\n",
      "8\n",
      "7\n",
      "6\n",
      "5\n",
      "4\n",
      "3\n",
      "2\n",
      "1\n"
     ]
    }
   ],
   "source": [
    "x=0\n",
    "while x<10:\n",
    "    print(x)\n",
    "    x=x+1\n",
    "\n",
    "\n",
    "for y in range(10,0,-1):\n",
    "    print(y)"
   ]
  },
  {
   "cell_type": "code",
   "execution_count": 7,
   "id": "07d973c1-8b30-4c72-adf1-c074cec2965a",
   "metadata": {},
   "outputs": [
    {
     "name": "stdout",
     "output_type": "stream",
     "text": [
      "*\n",
      "**\n",
      "***\n",
      "****\n",
      "*****\n",
      "******\n",
      "*******\n",
      "********\n",
      "*********\n",
      "**********\n"
     ]
    }
   ],
   "source": [
    "for y in range(0,10):\n",
    "    for x in range(0,y+1):\n",
    "        print(\"*\",end=\"\")\n",
    "    print()"
   ]
  },
  {
   "cell_type": "code",
   "execution_count": 6,
   "id": "789c4daf-f7fa-441d-b19b-cda0095540f5",
   "metadata": {},
   "outputs": [
    {
     "name": "stdout",
     "output_type": "stream",
     "text": [
      "0\n",
      "1\n",
      "2\n",
      "3\n",
      "4\n",
      "5\n",
      "6\n",
      "7\n",
      "8\n",
      "9\n",
      "*\n",
      "**\n",
      "***\n",
      "****\n",
      "*****\n",
      "******\n",
      "*******\n",
      "********\n",
      "*********\n",
      "**********\n"
     ]
    }
   ],
   "source": [
    "x=0\n",
    "while x<10:\n",
    "    print(x)\n",
    "    x=x+1\n",
    "\n",
    "\n",
    "\n",
    "for y in range(0,10):\n",
    "    for x in range(0,y+1):\n",
    "        \n",
    "        print(\"*\", end=\"\")\n",
    "    print()"
   ]
  },
  {
   "cell_type": "code",
   "execution_count": null,
   "id": "324dc3df-90e1-46e7-bd89-94c90d46b295",
   "metadata": {},
   "outputs": [],
   "source": []
  }
 ],
 "metadata": {
  "kernelspec": {
   "display_name": "Python 3 (ipykernel)",
   "language": "python",
   "name": "python3"
  },
  "language_info": {
   "codemirror_mode": {
    "name": "ipython",
    "version": 3
   },
   "file_extension": ".py",
   "mimetype": "text/x-python",
   "name": "python",
   "nbconvert_exporter": "python",
   "pygments_lexer": "ipython3",
   "version": "3.12.3"
  }
 },
 "nbformat": 4,
 "nbformat_minor": 5
}
