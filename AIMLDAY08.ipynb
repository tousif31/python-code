{
 "cells": [
  {
   "cell_type": "code",
   "execution_count": 1,
   "id": "0160d802-59ab-42c4-a374-76d80a03bc5b",
   "metadata": {},
   "outputs": [
    {
     "name": "stdout",
     "output_type": "stream",
     "text": [
      "[1, 4, 5, 6, 7, 8, 9]\n"
     ]
    }
   ],
   "source": [
    "arr = [5,4,8,1,9,6,7]\n",
    "\n",
    "for i in range(0,len(arr)):\n",
    "    min_idx=i\n",
    "    for j in range(i+1,len(arr)):\n",
    "        if arr[min_idx]>arr[j]:\n",
    "            min_idx=j\n",
    "    temp=arr[i]\n",
    "    arr[i]=arr[min_idx]\n",
    "    arr[min_idx]=temp\n",
    "\n",
    "print(arr)"
   ]
  },
  {
   "cell_type": "code",
   "execution_count": 2,
   "id": "9862a76a-a258-4b85-8564-4fe7fbe363fb",
   "metadata": {},
   "outputs": [
    {
     "name": "stdout",
     "output_type": "stream",
     "text": [
      "Sorted array: [5, 11, 12, 22, 25, 34, 64, 90]\n"
     ]
    }
   ],
   "source": [
    "def partition(array, low, high):\n",
    "    pivot = array[high]\n",
    "    i = low - 1\n",
    "\n",
    "    for j in range(low, high):\n",
    "        if array[j] <= pivot:\n",
    "\n",
    "            i += 1\n",
    "            array[i], array[j] = array[j], array[i]\n",
    "\n",
    "    array[i+1], array[high] = array[high], array[i+1]\n",
    "    return i+1\n",
    "\n",
    "def quicksort(array, low=0, high=None):\n",
    "    if high is None:\n",
    "        high = len(array) - 1\n",
    "\n",
    "    if low < high:\n",
    "        pivot_index = partition(array, low, high)\n",
    "        quicksort(array, low, pivot_index-1)\n",
    "        quicksort(array, pivot_index+1, high)\n",
    "\n",
    "my_array = [64, 34, 25, 12, 22, 11, 90, 5]\n",
    "quicksort(my_array)\n",
    "print(\"Sorted array:\", my_array)"
   ]
  },
  {
   "cell_type": "code",
   "execution_count": 3,
   "id": "fc7c2766-0102-4769-b29c-357e2ea2b551",
   "metadata": {},
   "outputs": [
    {
     "name": "stdout",
     "output_type": "stream",
     "text": [
      "[3, 7, 22, 45, 89]\n"
     ]
    }
   ],
   "source": [
    "arr=[22,3,45,7,89,]\n",
    "for i in range(1,len(arr)):\n",
    "    temp=arr[i]\n",
    "    j=i-1\n",
    "    while j>=0 and temp<arr[j]:\n",
    "        arr[j+1]=arr[j]\n",
    "        j-=1\n",
    "    arr[j+1]=temp\n",
    "\n",
    "print(arr)"
   ]
  },
  {
   "cell_type": "code",
   "execution_count": 5,
   "id": "22fc7716-f9e4-499f-ad08-aaacf488767e",
   "metadata": {},
   "outputs": [
    {
     "name": "stdin",
     "output_type": "stream",
     "text": [
      "Enter the String:  [\n"
     ]
    },
    {
     "name": "stdout",
     "output_type": "stream",
     "text": [
      "Valid String\n",
      "Valid String\n",
      "Invalid String\n"
     ]
    }
   ],
   "source": [
    "string = input(\"Enter the String: \")\n",
    "\n",
    "if string.count('(') == string.count(')'):\n",
    "    print(\"Valid String\")\n",
    "else:\n",
    "    print(\"Invalid String\")\n",
    "\n",
    "if string.count('{') == string.count('}'):\n",
    "    print(\"Valid String\")\n",
    "else:\n",
    "    print(\"Invalid String\")\n",
    "\n",
    "if string.count('[') == string.count(']'):\n",
    "    print(\"Valid String\")\n",
    "else:\n",
    "    print(\"Invalid String\")"
   ]
  },
  {
   "cell_type": "code",
   "execution_count": 6,
   "id": "43b12d1c-7b6d-48c5-9c25-e340e4826ace",
   "metadata": {},
   "outputs": [
    {
     "name": "stdin",
     "output_type": "stream",
     "text": [
      "Enter the String:  This is (a car\n"
     ]
    },
    {
     "name": "stdout",
     "output_type": "stream",
     "text": [
      "Invalid String\n"
     ]
    }
   ],
   "source": [
    "string = input(\"Enter the String: \")\n",
    "\n",
    "if string.count('(') == string.count(')'):\n",
    "    print(\"Valid String\")\n",
    "else:\n",
    "    print(\"Invalid String\")"
   ]
  },
  {
   "cell_type": "code",
   "execution_count": 9,
   "id": "6fae147d-c326-456a-9c41-cef8150ba3d2",
   "metadata": {},
   "outputs": [
    {
     "name": "stdin",
     "output_type": "stream",
     "text": [
      " (a){a}[a]\n"
     ]
    },
    {
     "name": "stdout",
     "output_type": "stream",
     "text": [
      "valid Sting\n"
     ]
    }
   ],
   "source": [
    "s=input()\n",
    "\n",
    "x=y=z=0\n",
    "\n",
    "for c in s:\n",
    "    match(c):\n",
    "        case '(':x+=1\n",
    "        case ')':x-=1\n",
    "        case '{':y+=1\n",
    "        case '}':y-=1\n",
    "        case '[':z+=1\n",
    "        case ']':z-=1\n",
    "        case _:continue\n",
    "\n",
    "\n",
    "if x+y+z == 0:\n",
    "    print(\"valid Sting\")\n",
    "else:\n",
    "    print(\"invalid String\")"
   ]
  },
  {
   "cell_type": "code",
   "execution_count": 8,
   "id": "661c5f0e-1a2b-4d9c-b398-74ba7f3b65f9",
   "metadata": {},
   "outputs": [
    {
     "name": "stdout",
     "output_type": "stream",
     "text": [
      "<function add at 0x0000013D9B256520>\n",
      "<function add at 0x0000013D9B256520>\n",
      "[12]\n"
     ]
    }
   ],
   "source": [
    "stack=[]\n",
    "def add(ele):\n",
    "    stack.append(ele)\n",
    "    print(add)\n",
    "\n",
    "def delete(ele):\n",
    "    stack.pop(ele)\n",
    "\n",
    "add(12)\n",
    "add(13)\n",
    "delete(1)\n",
    "print(stack)\n"
   ]
  },
  {
   "cell_type": "code",
   "execution_count": 9,
   "id": "a142f58f-12bb-4253-88b9-2fa1cfca9297",
   "metadata": {},
   "outputs": [
    {
     "name": "stdout",
     "output_type": "stream",
     "text": [
      "[12]\n"
     ]
    }
   ],
   "source": [
    "stack = []\n",
    "\n",
    "def add(ele):\n",
    "    stack.append(ele)\n",
    "\n",
    "def delete():\n",
    "    if len(stack) > 0:\n",
    "        stack.pop()\n",
    "    else:\n",
    "        print(\"Stack is empty, cannot delete.\")\n",
    "\n",
    "add(12)\n",
    "add(13)\n",
    "delete()\n",
    "print(stack)\n"
   ]
  },
  {
   "cell_type": "code",
   "execution_count": null,
   "id": "44e22707-eff0-43be-a570-09ef1e41ceec",
   "metadata": {},
   "outputs": [],
   "source": []
  }
 ],
 "metadata": {
  "kernelspec": {
   "display_name": "Python 3 (ipykernel)",
   "language": "python",
   "name": "python3"
  },
  "language_info": {
   "codemirror_mode": {
    "name": "ipython",
    "version": 3
   },
   "file_extension": ".py",
   "mimetype": "text/x-python",
   "name": "python",
   "nbconvert_exporter": "python",
   "pygments_lexer": "ipython3",
   "version": "3.12.3"
  }
 },
 "nbformat": 4,
 "nbformat_minor": 5
}
